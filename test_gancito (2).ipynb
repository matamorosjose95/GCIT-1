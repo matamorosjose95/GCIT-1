{
  "nbformat": 4,
  "nbformat_minor": 0,
  "metadata": {
    "kernelspec": {
      "display_name": "Python 3",
      "language": "python",
      "name": "python3"
    },
    "language_info": {
      "codemirror_mode": {
        "name": "ipython",
        "version": 3
      },
      "file_extension": ".py",
      "mimetype": "text/x-python",
      "name": "python",
      "nbconvert_exporter": "python",
      "pygments_lexer": "ipython3",
      "version": "3.7.9"
    },
    "colab": {
      "name": "test_gancito.ipynb",
      "provenance": []
    },
    "widgets": {
      "application/vnd.jupyter.widget-state+json": {
        "444310907de144e6bb153a9cc27fd429": {
          "model_module": "@jupyter-widgets/controls",
          "model_name": "HBoxModel",
          "state": {
            "_view_name": "HBoxView",
            "_dom_classes": [],
            "_model_name": "HBoxModel",
            "_view_module": "@jupyter-widgets/controls",
            "_model_module_version": "1.5.0",
            "_view_count": null,
            "_view_module_version": "1.5.0",
            "box_style": "",
            "layout": "IPY_MODEL_83534ffa17914154bddfd120e08c2c87",
            "_model_module": "@jupyter-widgets/controls",
            "children": [
              "IPY_MODEL_01f80976aaff4d20adf6ef80adad0fbe",
              "IPY_MODEL_adf26adf1c5c49bca1e91083359d3f8b"
            ]
          }
        },
        "83534ffa17914154bddfd120e08c2c87": {
          "model_module": "@jupyter-widgets/base",
          "model_name": "LayoutModel",
          "state": {
            "_view_name": "LayoutView",
            "grid_template_rows": null,
            "right": null,
            "justify_content": null,
            "_view_module": "@jupyter-widgets/base",
            "overflow": null,
            "_model_module_version": "1.2.0",
            "_view_count": null,
            "flex_flow": null,
            "width": null,
            "min_width": null,
            "border": null,
            "align_items": null,
            "bottom": null,
            "_model_module": "@jupyter-widgets/base",
            "top": null,
            "grid_column": null,
            "overflow_y": null,
            "overflow_x": null,
            "grid_auto_flow": null,
            "grid_area": null,
            "grid_template_columns": null,
            "flex": null,
            "_model_name": "LayoutModel",
            "justify_items": null,
            "grid_row": null,
            "max_height": null,
            "align_content": null,
            "visibility": null,
            "align_self": null,
            "height": null,
            "min_height": null,
            "padding": null,
            "grid_auto_rows": null,
            "grid_gap": null,
            "max_width": null,
            "order": null,
            "_view_module_version": "1.2.0",
            "grid_template_areas": null,
            "object_position": null,
            "object_fit": null,
            "grid_auto_columns": null,
            "margin": null,
            "display": null,
            "left": null
          }
        },
        "01f80976aaff4d20adf6ef80adad0fbe": {
          "model_module": "@jupyter-widgets/controls",
          "model_name": "FloatProgressModel",
          "state": {
            "_view_name": "ProgressView",
            "style": "IPY_MODEL_7e7660a235654c81ac53fb2046b1d89c",
            "_dom_classes": [],
            "description": "  0%",
            "_model_name": "FloatProgressModel",
            "bar_style": "",
            "max": 100,
            "_view_module": "@jupyter-widgets/controls",
            "_model_module_version": "1.5.0",
            "value": 0,
            "_view_count": null,
            "_view_module_version": "1.5.0",
            "orientation": "horizontal",
            "min": 0,
            "description_tooltip": null,
            "_model_module": "@jupyter-widgets/controls",
            "layout": "IPY_MODEL_5ab9d9ca63dd4cc8b7a47a9d8f511884"
          }
        },
        "adf26adf1c5c49bca1e91083359d3f8b": {
          "model_module": "@jupyter-widgets/controls",
          "model_name": "HTMLModel",
          "state": {
            "_view_name": "HTMLView",
            "style": "IPY_MODEL_8b7e1bb219f5491a9776f704b3594855",
            "_dom_classes": [],
            "description": "",
            "_model_name": "HTMLModel",
            "placeholder": "​",
            "_view_module": "@jupyter-widgets/controls",
            "_model_module_version": "1.5.0",
            "value": " 0/100 [00:00&lt;?, ?it/s]",
            "_view_count": null,
            "_view_module_version": "1.5.0",
            "description_tooltip": null,
            "_model_module": "@jupyter-widgets/controls",
            "layout": "IPY_MODEL_6e6b1a323dd94dfba9957a7afab70aef"
          }
        },
        "7e7660a235654c81ac53fb2046b1d89c": {
          "model_module": "@jupyter-widgets/controls",
          "model_name": "ProgressStyleModel",
          "state": {
            "_view_name": "StyleView",
            "_model_name": "ProgressStyleModel",
            "description_width": "initial",
            "_view_module": "@jupyter-widgets/base",
            "_model_module_version": "1.5.0",
            "_view_count": null,
            "_view_module_version": "1.2.0",
            "bar_color": null,
            "_model_module": "@jupyter-widgets/controls"
          }
        },
        "5ab9d9ca63dd4cc8b7a47a9d8f511884": {
          "model_module": "@jupyter-widgets/base",
          "model_name": "LayoutModel",
          "state": {
            "_view_name": "LayoutView",
            "grid_template_rows": null,
            "right": null,
            "justify_content": null,
            "_view_module": "@jupyter-widgets/base",
            "overflow": null,
            "_model_module_version": "1.2.0",
            "_view_count": null,
            "flex_flow": null,
            "width": null,
            "min_width": null,
            "border": null,
            "align_items": null,
            "bottom": null,
            "_model_module": "@jupyter-widgets/base",
            "top": null,
            "grid_column": null,
            "overflow_y": null,
            "overflow_x": null,
            "grid_auto_flow": null,
            "grid_area": null,
            "grid_template_columns": null,
            "flex": null,
            "_model_name": "LayoutModel",
            "justify_items": null,
            "grid_row": null,
            "max_height": null,
            "align_content": null,
            "visibility": null,
            "align_self": null,
            "height": null,
            "min_height": null,
            "padding": null,
            "grid_auto_rows": null,
            "grid_gap": null,
            "max_width": null,
            "order": null,
            "_view_module_version": "1.2.0",
            "grid_template_areas": null,
            "object_position": null,
            "object_fit": null,
            "grid_auto_columns": null,
            "margin": null,
            "display": null,
            "left": null
          }
        },
        "8b7e1bb219f5491a9776f704b3594855": {
          "model_module": "@jupyter-widgets/controls",
          "model_name": "DescriptionStyleModel",
          "state": {
            "_view_name": "StyleView",
            "_model_name": "DescriptionStyleModel",
            "description_width": "",
            "_view_module": "@jupyter-widgets/base",
            "_model_module_version": "1.5.0",
            "_view_count": null,
            "_view_module_version": "1.2.0",
            "_model_module": "@jupyter-widgets/controls"
          }
        },
        "6e6b1a323dd94dfba9957a7afab70aef": {
          "model_module": "@jupyter-widgets/base",
          "model_name": "LayoutModel",
          "state": {
            "_view_name": "LayoutView",
            "grid_template_rows": null,
            "right": null,
            "justify_content": null,
            "_view_module": "@jupyter-widgets/base",
            "overflow": null,
            "_model_module_version": "1.2.0",
            "_view_count": null,
            "flex_flow": null,
            "width": null,
            "min_width": null,
            "border": null,
            "align_items": null,
            "bottom": null,
            "_model_module": "@jupyter-widgets/base",
            "top": null,
            "grid_column": null,
            "overflow_y": null,
            "overflow_x": null,
            "grid_auto_flow": null,
            "grid_area": null,
            "grid_template_columns": null,
            "flex": null,
            "_model_name": "LayoutModel",
            "justify_items": null,
            "grid_row": null,
            "max_height": null,
            "align_content": null,
            "visibility": null,
            "align_self": null,
            "height": null,
            "min_height": null,
            "padding": null,
            "grid_auto_rows": null,
            "grid_gap": null,
            "max_width": null,
            "order": null,
            "_view_module_version": "1.2.0",
            "grid_template_areas": null,
            "object_position": null,
            "object_fit": null,
            "grid_auto_columns": null,
            "margin": null,
            "display": null,
            "left": null
          }
        }
      }
    }
  },
  "cells": [
    {
      "cell_type": "code",
      "metadata": {
        "id": "w64IMoQlJqY6"
      },
      "source": [
        "import numpy as np\n",
        "import matplotlib.pyplot as plt\n",
        "from tqdm.notebook import tqdm\n",
        "import time\n",
        "import gc\n",
        "from csv import writer"
      ],
      "execution_count": 1,
      "outputs": []
    },
    {
      "cell_type": "code",
      "metadata": {
        "id": "JditOiIFKSl5",
        "outputId": "8808d221-5a6d-4ee9-848a-678fcedb7c19",
        "colab": {
          "base_uri": "https://localhost:8080/",
          "height": 143
        }
      },
      "source": [
        "!git clone https://github.com/matamorosjose95/GCIT-1.git"
      ],
      "execution_count": 9,
      "outputs": [
        {
          "output_type": "stream",
          "text": [
            "Cloning into 'GCIT-1'...\n",
            "remote: Enumerating objects: 109, done.\u001b[K\n",
            "remote: Counting objects: 100% (109/109), done.\u001b[K\n",
            "remote: Compressing objects: 100% (89/89), done.\u001b[K\n",
            "remote: Total 245 (delta 65), reused 41 (delta 18), pack-reused 136\u001b[K\n",
            "Receiving objects: 100% (245/245), 129.79 KiB | 11.80 MiB/s, done.\n",
            "Resolving deltas: 100% (125/125), done.\n"
          ],
          "name": "stdout"
        }
      ]
    },
    {
      "cell_type": "code",
      "metadata": {
        "id": "x5vY_yO0KA3-"
      },
      "source": [
        "import sys\n",
        "sys.path.append('/content/GCIT-1')\n",
        "from GCIT import *\n",
        "from utils import *\n",
        "from modelos_gancito import *\n",
        "from entrenamiento_gan_cit_0 import *"
      ],
      "execution_count": 10,
      "outputs": []
    },
    {
      "cell_type": "code",
      "metadata": {
        "id": "uYCnOYoQJqZG"
      },
      "source": [
        "def append_list_as_row(file_name, list_of_elem):\n",
        "    # Open file in append mode\n",
        "    with open(file_name, 'a+', newline='') as write_obj:\n",
        "        # Create a writer object from csv module\n",
        "        csv_writer = writer(write_obj)\n",
        "        # Add contents of list as last row in the csv file\n",
        "        csv_writer.writerow(list_of_elem)"
      ],
      "execution_count": 11,
      "outputs": []
    },
    {
      "cell_type": "code",
      "metadata": {
        "id": "2wvsyviWJqZK",
        "outputId": "d170fe4a-cbed-418a-fd4c-778a8db615ac",
        "colab": {
          "base_uri": "https://localhost:8080/",
          "height": 67,
          "referenced_widgets": [
            "444310907de144e6bb153a9cc27fd429",
            "83534ffa17914154bddfd120e08c2c87",
            "01f80976aaff4d20adf6ef80adad0fbe",
            "adf26adf1c5c49bca1e91083359d3f8b",
            "7e7660a235654c81ac53fb2046b1d89c",
            "5ab9d9ca63dd4cc8b7a47a9d8f511884",
            "8b7e1bb219f5491a9776f704b3594855",
            "6e6b1a323dd94dfba9957a7afab70aef"
          ]
        }
      },
      "source": [
        "Zdim = 25 # 25, 50, 100, 250, 500\n",
        "dim_x = 1\n",
        "dim_y = 1 \n",
        "# fijar número de experimentos a realizar\n",
        "n_experiments = 100 #faltan 900\n",
        "# variable para guardar los pvalores de la función GCIT-1\n",
        "p_vals= []\n",
        "p_values = []\n",
        "# determinar de manera aleatoria cual es el tipo de conjunto a evaluar\n",
        "true = np.random.randint(0,2,n_experiments)\n",
        "print('Probando test para '+str(Zdim)+' dimensiones de Z')\n",
        "pbar = tqdm(total=n_experiments)\n",
        "for n in range(n_experiments):\n",
        "    ti = time.time()\n",
        "    # CREAR DATASET\n",
        "    if true[n]==0:\n",
        "        data_type = 'CI' # conjunto condicionalmente independiente\n",
        "    if true[n]==1:\n",
        "        data_type = 'NI' # conjunto dependiente \n",
        "    x, y, z = generate_samples_random(size=500, sType=data_type,\n",
        "                                      dx=dim_x, dy=dim_y, dz=Zdim,\n",
        "                                      fixed_function='linear', dist_z='gaussian')\n",
        "    # entrenar gancito y obtener modelo GAN entrenado\n",
        "    zMI_loss, xMI_loss, G_loss, D_loss, G_net = training(x,y,z,'GCIT_InfoGAN', 2e-4) \n",
        "    # REALIZAR TEST\n",
        "    n_samples = 1000\n",
        "    p_vals = [] # para guardar los valores de los 5 estadísticos\n",
        "    statistics = [correlation, mmd_squared, kolmogorov, wilcox, rdc]\n",
        "    for stat in statistics:\n",
        "        rho = []\n",
        "        for sample in range(n_samples):\n",
        "            v = torch.FloatTensor(1000, dim_v).cuda()\n",
        "            x_hat = G_net.forward(torch.tensor(z).float().cuda(), v.uniform_(0,1).cuda())\n",
        "            x_hat = x_hat.cpu().detach().numpy()\n",
        "            rho.append(stat(x_hat, y))\n",
        "        #print(rho)\n",
        "        rho = np.array(rho)\n",
        "        p_value = min(sum(rho < stat(x.reshape(len(x)),y)) / n_samples, sum(rho > stat(x.reshape(len(x)), y)) / n_samples)\n",
        "        p_vals.append(p_value)\n",
        "    p_vals = GCIT_1(x, y, z, statistic='all')\n",
        "    del x, y, z\n",
        "    pbar.update(1)\n",
        "    # GUARDAR RESULTADOS\n",
        "    append_list_as_row('dim%s_linear_gaussian_GANCIT0.csv'%(Zdim,), [true[n].tolist()] + p_vals)\n",
        "    gc.collect()\n",
        "p_values = np.array(p_values)\n",
        "pbar.close()"
      ],
      "execution_count": null,
      "outputs": [
        {
          "output_type": "stream",
          "text": [
            "Probando test para 25 dimensiones de Z\n"
          ],
          "name": "stdout"
        },
        {
          "output_type": "display_data",
          "data": {
            "application/vnd.jupyter.widget-view+json": {
              "model_id": "444310907de144e6bb153a9cc27fd429",
              "version_minor": 0,
              "version_major": 2
            },
            "text/plain": [
              "HBox(children=(FloatProgress(value=0.0), HTML(value='')))"
            ]
          },
          "metadata": {
            "tags": []
          }
        }
      ]
    }
  ]
}