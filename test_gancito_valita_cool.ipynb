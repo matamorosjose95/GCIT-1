{
 "cells": [
  {
   "cell_type": "code",
   "execution_count": 1,
   "metadata": {},
   "outputs": [],
   "source": [
    "import numpy as np\n",
    "import matplotlib.pyplot as plt\n",
    "from tqdm.notebook import tqdm\n",
    "import time\n",
    "import gc\n",
    "from csv import writer"
   ]
  },
  {
   "cell_type": "raw",
   "metadata": {},
   "source": [
    "# !git clone https://github.com/matamorosjose95/GCIT-1.git"
   ]
  },
  {
   "cell_type": "code",
   "execution_count": 3,
   "metadata": {},
   "outputs": [],
   "source": [
    "import torch\n",
    "import torch.nn as nn\n",
    "import torch.nn.functional as F\n",
    "from torch.utils.data import Dataset, DataLoader\n",
    "#from skimage import io\n",
    "\n",
    "import torch.optim as optim\n",
    "import torch.autograd as autograd"
   ]
  },
  {
   "cell_type": "code",
   "execution_count": 4,
   "metadata": {},
   "outputs": [
    {
     "name": "stdout",
     "output_type": "stream",
     "text": [
      "1.5.1\n"
     ]
    }
   ],
   "source": [
    "import sys\n",
    "#sys.path.append('/content/GCIT-1')\n",
    "from GCIT import *\n",
    "from utils import *\n",
    "from modelos_gancito import *\n",
    "from entrenamiento_gan_cit_0 import *"
   ]
  },
  {
   "cell_type": "code",
   "execution_count": 5,
   "metadata": {},
   "outputs": [],
   "source": [
    "def append_list_as_row(file_name, list_of_elem):\n",
    "    # Open file in append mode\n",
    "    with open(file_name, 'a+', newline='') as write_obj:\n",
    "        # Create a writer object from csv module\n",
    "        csv_writer = writer(write_obj)\n",
    "        # Add contents of list as last row in the csv file\n",
    "        csv_writer.writerow(list_of_elem)"
   ]
  },
  {
   "cell_type": "code",
   "execution_count": 7,
   "metadata": {},
   "outputs": [
    {
     "name": "stdout",
     "output_type": "stream",
     "text": [
      "Probando test para 500 dimensiones de Z\n"
     ]
    },
    {
     "data": {
      "application/vnd.jupyter.widget-view+json": {
       "model_id": "6a5544544d4a469c85df865a59f6e8be",
       "version_major": 2,
       "version_minor": 0
      },
      "text/plain": [
       "HBox(children=(HTML(value=''), FloatProgress(value=0.0, max=42.0), HTML(value='')))"
      ]
     },
     "metadata": {},
     "output_type": "display_data"
    },
    {
     "name": "stdout",
     "output_type": "stream",
     "text": [
      "\n",
      "\n"
     ]
    }
   ],
   "source": [
    "Zdim = 500 # 25, 50, 100, 250, 500\n",
    "dim_x = 1\n",
    "dim_y = 1 \n",
    "# fijar número de experimentos a realizar\n",
    "n_experiments = 42 #faltan 900\n",
    "# variable para guardar los pvalores de la función GCIT-1\n",
    "p_vals= []\n",
    "p_values = []\n",
    "# determinar de manera aleatoria cual es el tipo de conjunto a evaluar\n",
    "true = np.random.randint(0,2,n_experiments)\n",
    "print('Probando test para '+str(Zdim)+' dimensiones de Z')\n",
    "pbar = tqdm(total=n_experiments)\n",
    "for n in range(n_experiments):\n",
    "    ti = time.time()\n",
    "    # CREAR DATASET\n",
    "    if true[n]==0:\n",
    "        data_type = 'CI' # conjunto condicionalmente independiente\n",
    "    if true[n]==1:\n",
    "        data_type = 'NI' # conjunto dependiente \n",
    "    x, y, z = generate_samples_random(size=500, sType=data_type,\n",
    "                                      dx=dim_x, dy=dim_y, dz=Zdim,\n",
    "                                      fixed_function='linear', dist_z='gaussian')\n",
    "    # entrenar gancito y obtener modelo GAN entrenado\n",
    "    zMI_loss, xMI_loss, G_loss, D_loss, G_net = training(x,y,z,'GCIT_InfoGAN', 2e-4) \n",
    "    # REALIZAR TEST\n",
    "    n_samples = 1000\n",
    "    p_vals = [] # para guardar los valores de los 5 estadísticos\n",
    "    statistics = [correlation, mmd_squared, kolmogorov, wilcox, rdc]\n",
    "    dim_v = 62\n",
    "    for stat in statistics:\n",
    "        rho = []\n",
    "        for sample in range(n_samples):\n",
    "            v = torch.FloatTensor(500, dim_v)\n",
    "            x_hat = G_net.forward(torch.tensor(z).float(), v.uniform_(0,1))\n",
    "            x_hat = x_hat.cpu().detach().numpy()\n",
    "            rho.append(stat(x_hat, y))\n",
    "        #print(rho)\n",
    "        rho = np.array(rho)\n",
    "        p_value = min(sum(rho < stat(x.reshape(len(x)),y)) / n_samples, sum(rho > stat(x.reshape(len(x)), y)) / n_samples)\n",
    "        p_vals.append(p_value)\n",
    "    #p_vals = GCIT_1(x, y, z, statistic='all')\n",
    "    del x, y, z\n",
    "    pbar.update(1)\n",
    "    # GUARDAR RESULTADOS\n",
    "    append_list_as_row('dim%s_linear_gaussian_GANCIT0.csv'%(Zdim,), [true[n].tolist()] + p_vals)\n",
    "    gc.collect()\n",
    "p_values = np.array(p_values)\n",
    "pbar.close()\n",
    "# valita cool = cool"
   ]
  },
  {
   "cell_type": "code",
   "execution_count": null,
   "metadata": {},
   "outputs": [],
   "source": []
  }
 ],
 "metadata": {
  "kernelspec": {
   "display_name": "Python 3",
   "language": "python",
   "name": "python3"
  },
  "language_info": {
   "codemirror_mode": {
    "name": "ipython",
    "version": 3
   },
   "file_extension": ".py",
   "mimetype": "text/x-python",
   "name": "python",
   "nbconvert_exporter": "python",
   "pygments_lexer": "ipython3",
   "version": "3.7.8"
  }
 },
 "nbformat": 4,
 "nbformat_minor": 4
}
