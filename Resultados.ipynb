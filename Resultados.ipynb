{
 "cells": [
  {
   "cell_type": "code",
   "execution_count": 13,
   "metadata": {},
   "outputs": [],
   "source": [
    "import numpy as np\n",
    "import matplotlib.pyplot as plt\n",
    "import pandas as pd\n",
    "from utils import *"
   ]
  },
  {
   "cell_type": "code",
   "execution_count": 23,
   "metadata": {},
   "outputs": [
    {
     "name": "stdout",
     "output_type": "stream",
     "text": [
      "Poder del test: \n",
      "CORR: 1.0\n",
      "RDC : 1.0\n",
      "Error de tipo I:\n",
      "CORR: 0.1506849315068493\n",
      "RDC : 0.0998185117967332\n"
     ]
    }
   ],
   "source": [
    "n = 25\n",
    "alpha = 0.05\n",
    "data = pd.read_csv(\"dim%s_linear_gaussian.csv\"%(n,))\n",
    "trues = data[\"true\"][:1000]\n",
    "pred_corr = data[\"corr\"][:1000]\n",
    "pred_rdc = data[\"rdc\"][:1000]\n",
    "for i in range(1000):\n",
    "    if pred_corr[i] < alpha/2:\n",
    "        pred_corr[i] = 1\n",
    "    else:\n",
    "        pred_corr[i] = 0\n",
    "    if pred_rdc[i] < alpha/2:\n",
    "        pred_rdc[i] = 1\n",
    "    else:\n",
    "        pred_rdc[i] = 0\n",
    "print(\"Poder del test: \")\n",
    "print(\"CORR: \" + str(tpr(trues, pred_corr)))\n",
    "print(\"RDC : \" + str(tpr(trues, pred_rdc)))\n",
    "\n",
    "print(\"Error de tipo I:\")\n",
    "print(\"CORR: \" + str(fdr(trues, pred_corr)))\n",
    "print(\"RDC : \" + str(fdr(trues, pred_rdc)))"
   ]
  },
  {
   "cell_type": "code",
   "execution_count": 37,
   "metadata": {},
   "outputs": [
    {
     "data": {
      "text/plain": [
       "<matplotlib.legend.Legend at 0xc202fc8>"
      ]
     },
     "execution_count": 37,
     "metadata": {},
     "output_type": "execute_result"
    },
    {
     "data": {
      "image/png": "[encoded data removed]",
      "text/plain": [
       "<Figure size 720x288 with 2 Axes>"
      ]
     },
     "metadata": {
      "needs_background": "light"
     },
     "output_type": "display_data"
    }
   ],
   "source": [
    "dims = [25, 50, 100, 250, 500]\n",
    "tprs_corr = []\n",
    "tprs_rdc = []\n",
    "fdrs_corr = []\n",
    "fdrs_rdc = []\n",
    "for n in dims:\n",
    "    #n = 25\n",
    "    alpha = 0.05\n",
    "    data = pd.read_csv(\"dim%s_linear_gaussian.csv\"%(n,))\n",
    "    trues = data[\"true\"][:1000]\n",
    "    pred_corr = data[\"corr\"][:1000]\n",
    "    pred_rdc = data[\"rdc\"][:1000]\n",
    "    for i in range(1000):\n",
    "        if pred_corr[i] < alpha/2:\n",
    "            pred_corr[i] = 1\n",
    "        else:\n",
    "            pred_corr[i] = 0\n",
    "        if pred_rdc[i] < alpha/2:\n",
    "            pred_rdc[i] = 1\n",
    "        else:\n",
    "            pred_rdc[i] = 0\n",
    "    tprs_corr.append(tpr(trues, pred_corr))\n",
    "    tprs_rdc.append(tpr(trues, pred_rdc))\n",
    "\n",
    "    fdrs_corr.append(fdr(trues, pred_corr))\n",
    "    fdrs_rdc.append(fdr(trues, pred_rdc))\n",
    "\n",
    "f, ax = plt.subplots(1,2, figsize=(10,4))\n",
    "ax[0].set_title(\"Poder del Test\")\n",
    "ax[1].set_title(\"Faltos Positivos\")\n",
    "ax[0].plot(dims, tprs_corr, label='Correlation')\n",
    "ax[0].plot(dims, tprs_rdc, label='RDC')\n",
    "ax[1].plot(dims, fdrs_corr, label='Correlation')\n",
    "ax[1].plot(dims, fdrs_rdc, label='RDC')\n",
    "ax[0].legend()\n",
    "ax[1].legend()"
   ]
  },
  {
   "cell_type": "code",
   "execution_count": null,
   "metadata": {},
   "outputs": [],
   "source": []
  }
 ],
 "metadata": {
  "kernelspec": {
   "display_name": "Python 3",
   "language": "python",
   "name": "python3"
  },
  "language_info": {
   "codemirror_mode": {
    "name": "ipython",
    "version": 3
   },
   "file_extension": ".py",
   "mimetype": "text/x-python",
   "name": "python",
   "nbconvert_exporter": "python",
   "pygments_lexer": "ipython3",
   "version": "3.7.9"
  }
 },
 "nbformat": 4,
 "nbformat_minor": 4
}
