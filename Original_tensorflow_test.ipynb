{
 "cells": [
  {
   "cell_type": "markdown",
   "metadata": {},
   "source": [
    "Importar Librerías necesarias"
   ]
  },
  {
   "cell_type": "code",
   "execution_count": 1,
   "metadata": {},
   "outputs": [],
   "source": [
    "import numpy as np\n",
    "import tensorflow as tf\n",
    "import matplotlib.pyplot as plt\n",
    "from tqdm.notebook import tqdm\n",
    "import time\n",
    "import gc"
   ]
  },
  {
   "cell_type": "markdown",
   "metadata": {},
   "source": [
    "Funciones creadas por los autores originales"
   ]
  },
  {
   "cell_type": "code",
   "execution_count": 2,
   "metadata": {},
   "outputs": [
    {
     "data": {
      "text/plain": [
       "'1.15.0'"
      ]
     },
     "execution_count": 2,
     "metadata": {},
     "output_type": "execute_result"
    }
   ],
   "source": [
    "tf.__version__"
   ]
  },
  {
   "cell_type": "code",
   "execution_count": 3,
   "metadata": {
    "scrolled": false
   },
   "outputs": [],
   "source": [
    "from utils import *\n",
    "from GCIT import *\n",
    "from GCIT_1 import *\n",
    "import time\n",
    "from csv import writer"
   ]
  },
  {
   "cell_type": "code",
   "execution_count": 4,
   "metadata": {},
   "outputs": [],
   "source": [
    "def append_list_as_row(file_name, list_of_elem):\n",
    "    # Open file in append mode\n",
    "    with open(file_name, 'a+', newline='') as write_obj:\n",
    "        # Create a writer object from csv module\n",
    "        csv_writer = writer(write_obj)\n",
    "        # Add contents of list as last row in the csv file\n",
    "        csv_writer.writerow(list_of_elem)"
   ]
  },
  {
   "cell_type": "code",
   "execution_count": 5,
   "metadata": {
    "scrolled": false
   },
   "outputs": [
    {
     "name": "stdout",
     "output_type": "stream",
     "text": [
      "WARNING:tensorflow:From C:\\Users\\Lyapunov\\Anaconda3\\envs\\jose\\lib\\site-packages\\tensorflow_core\\python\\ops\\math_grad.py:1375: where (from tensorflow.python.ops.array_ops) is deprecated and will be removed in a future version.\n",
      "Instructions for updating:\n",
      "Use tf.where in 2.0, which has the same broadcast rule as np.where\n",
      "WARNING:tensorflow:From C:\\Users\\Lyapunov\\Desktop\\JM\\GCIT-1\\GCIT_1.py:223: The name tf.global_variables_initializer is deprecated. Please use tf.compat.v1.global_variables_initializer instead.\n",
      "\n",
      "Wall time: 33.1 s\n"
     ]
    },
    {
     "data": {
      "text/plain": [
       "[0.06, 0.0, 0.0, 0.0, 0.417]"
      ]
     },
     "execution_count": 5,
     "metadata": {},
     "output_type": "execute_result"
    }
   ],
   "source": [
    "%%time\n",
    "x, y, z = generate_samples_random(size=500, sType='CI',dx=1, dy=1, dz=500,\n",
    "                                  fixed_function='nonlinear', dist_z='gaussian')\n",
    "p_vals = GCIT_1(x, y, z, statistic='all')\n",
    "#print(\"Tiempo de ejecución: \" + str(time.time()-ti))\n",
    "p_vals"
   ]
  },
  {
   "cell_type": "markdown",
   "metadata": {},
   "source": [
    "### Función Lineal Con distribución Gaussiana"
   ]
  },
  {
   "cell_type": "code",
   "execution_count": 6,
   "metadata": {
    "scrolled": true
   },
   "outputs": [
    {
     "name": "stdout",
     "output_type": "stream",
     "text": [
      "Probando test para 100 dimensiones de Z\n"
     ]
    },
    {
     "data": {
      "application/vnd.jupyter.widget-view+json": {
       "model_id": "95f6a0bc1dd0480faf076078a1af3dae",
       "version_major": 2,
       "version_minor": 0
      },
      "text/plain": [
       "HBox(children=(HTML(value=''), FloatProgress(value=0.0, max=300.0), HTML(value='')))"
      ]
     },
     "metadata": {},
     "output_type": "display_data"
    },
    {
     "name": "stderr",
     "output_type": "stream",
     "text": [
      "ERROR:root:Internal Python error in the inspect module.\n",
      "Below is the traceback from this internal error.\n",
      "\n"
     ]
    },
    {
     "name": "stdout",
     "output_type": "stream",
     "text": [
      "Traceback (most recent call last):\n",
      "  File \"C:\\Users\\Lyapunov\\Anaconda3\\envs\\jose\\lib\\site-packages\\IPython\\core\\interactiveshell.py\", line 3417, in run_code\n",
      "    exec(code_obj, self.user_global_ns, self.user_ns)\n",
      "  File \"<ipython-input-6-5a906ae4b638>\", line 22, in <module>\n",
      "    fixed_function='linear', dist_z='gaussian')\n",
      "  File \"C:\\Users\\Lyapunov\\Desktop\\JM\\GCIT-1\\utils.py\", line 43, in generate_samples_random\n",
      "    np.random.seed()\n",
      "KeyboardInterrupt\n",
      "\n",
      "During handling of the above exception, another exception occurred:\n",
      "\n",
      "Traceback (most recent call last):\n",
      "  File \"C:\\Users\\Lyapunov\\Anaconda3\\envs\\jose\\lib\\site-packages\\IPython\\core\\interactiveshell.py\", line 3420, in run_code\n",
      "    sys.excepthook = old_excepthook\n",
      "KeyboardInterrupt\n",
      "\n",
      "During handling of the above exception, another exception occurred:\n",
      "\n",
      "Traceback (most recent call last):\n",
      "  File \"C:\\Users\\Lyapunov\\Anaconda3\\envs\\jose\\lib\\site-packages\\IPython\\core\\interactiveshell.py\", line 2044, in showtraceback\n",
      "    stb = value._render_traceback_()\n",
      "AttributeError: 'KeyboardInterrupt' object has no attribute '_render_traceback_'\n",
      "\n",
      "During handling of the above exception, another exception occurred:\n",
      "\n",
      "Traceback (most recent call last):\n",
      "  File \"C:\\Users\\Lyapunov\\Anaconda3\\envs\\jose\\lib\\site-packages\\IPython\\core\\ultratb.py\", line 1169, in get_records\n",
      "    return _fixed_getinnerframes(etb, number_of_lines_of_context, tb_offset)\n",
      "  File \"C:\\Users\\Lyapunov\\Anaconda3\\envs\\jose\\lib\\site-packages\\IPython\\core\\ultratb.py\", line 316, in wrapped\n",
      "    return f(*args, **kwargs)\n",
      "  File \"C:\\Users\\Lyapunov\\Anaconda3\\envs\\jose\\lib\\site-packages\\IPython\\core\\ultratb.py\", line 350, in _fixed_getinnerframes\n",
      "    records = fix_frame_records_filenames(inspect.getinnerframes(etb, context))\n",
      "  File \"C:\\Users\\Lyapunov\\Anaconda3\\envs\\jose\\lib\\inspect.py\", line 1502, in getinnerframes\n",
      "    frameinfo = (tb.tb_frame,) + getframeinfo(tb, context)\n",
      "  File \"C:\\Users\\Lyapunov\\Anaconda3\\envs\\jose\\lib\\inspect.py\", line 1460, in getframeinfo\n",
      "    filename = getsourcefile(frame) or getfile(frame)\n",
      "  File \"C:\\Users\\Lyapunov\\Anaconda3\\envs\\jose\\lib\\inspect.py\", line 696, in getsourcefile\n",
      "    if getattr(getmodule(object, filename), '__loader__', None) is not None:\n",
      "  File \"C:\\Users\\Lyapunov\\Anaconda3\\envs\\jose\\lib\\inspect.py\", line 733, in getmodule\n",
      "    if ismodule(module) and hasattr(module, '__file__'):\n",
      "  File \"C:\\Users\\Lyapunov\\Anaconda3\\envs\\jose\\lib\\site-packages\\tensorflow\\__init__.py\", line 50, in __getattr__\n",
      "    module = self._load()\n",
      "  File \"C:\\Users\\Lyapunov\\Anaconda3\\envs\\jose\\lib\\site-packages\\tensorflow\\__init__.py\", line 44, in _load\n",
      "    module = _importlib.import_module(self.__name__)\n",
      "  File \"C:\\Users\\Lyapunov\\Anaconda3\\envs\\jose\\lib\\importlib\\__init__.py\", line 127, in import_module\n",
      "    return _bootstrap._gcd_import(name[level:], package, level)\n",
      "  File \"<frozen importlib._bootstrap>\", line 1006, in _gcd_import\n",
      "  File \"<frozen importlib._bootstrap>\", line 983, in _find_and_load\n",
      "  File \"<frozen importlib._bootstrap>\", line 967, in _find_and_load_unlocked\n",
      "  File \"<frozen importlib._bootstrap>\", line 677, in _load_unlocked\n",
      "  File \"<frozen importlib._bootstrap_external>\", line 728, in exec_module\n",
      "  File \"<frozen importlib._bootstrap>\", line 219, in _call_with_frames_removed\n",
      "  File \"C:\\Users\\Lyapunov\\Anaconda3\\envs\\jose\\lib\\site-packages\\tensorflow_core\\contrib\\__init__.py\", line 43, in <module>\n",
      "    from tensorflow.contrib import cudnn_rnn\n",
      "  File \"C:\\Users\\Lyapunov\\Anaconda3\\envs\\jose\\lib\\site-packages\\tensorflow_core\\contrib\\cudnn_rnn\\__init__.py\", line 38, in <module>\n",
      "    from tensorflow.contrib.cudnn_rnn.python.layers import *\n",
      "  File \"C:\\Users\\Lyapunov\\Anaconda3\\envs\\jose\\lib\\site-packages\\tensorflow_core\\contrib\\cudnn_rnn\\__init__.py\", line 38, in <module>\n",
      "    from tensorflow.contrib.cudnn_rnn.python.layers import *\n",
      "  File \"C:\\Users\\Lyapunov\\Anaconda3\\envs\\jose\\lib\\site-packages\\tensorflow_core\\contrib\\cudnn_rnn\\python\\layers\\__init__.py\", line 23, in <module>\n",
      "    from tensorflow.contrib.cudnn_rnn.python.layers.cudnn_rnn import *\n",
      "  File \"C:\\Users\\Lyapunov\\Anaconda3\\envs\\jose\\lib\\site-packages\\tensorflow_core\\contrib\\cudnn_rnn\\python\\layers\\cudnn_rnn.py\", line 20, in <module>\n",
      "    from tensorflow.contrib.cudnn_rnn.python.ops import cudnn_rnn_ops\n",
      "  File \"C:\\Users\\Lyapunov\\Anaconda3\\envs\\jose\\lib\\site-packages\\tensorflow_core\\contrib\\cudnn_rnn\\python\\ops\\cudnn_rnn_ops.py\", line 22, in <module>\n",
      "    from tensorflow.contrib.rnn.python.ops import lstm_ops\n",
      "  File \"C:\\Users\\Lyapunov\\Anaconda3\\envs\\jose\\lib\\site-packages\\tensorflow_core\\contrib\\rnn\\__init__.py\", line 93, in <module>\n",
      "    from tensorflow.contrib.rnn.python.ops.rnn_cell import *\n",
      "  File \"C:\\Users\\Lyapunov\\Anaconda3\\envs\\jose\\lib\\site-packages\\tensorflow_core\\contrib\\rnn\\python\\ops\\rnn_cell.py\", line 24, in <module>\n",
      "    from tensorflow.contrib.layers.python.layers import layers\n",
      "  File \"C:\\Users\\Lyapunov\\Anaconda3\\envs\\jose\\lib\\site-packages\\tensorflow_core\\contrib\\layers\\__init__.py\", line 116, in <module>\n",
      "    from tensorflow.contrib.layers.python.layers import *\n",
      "  File \"C:\\Users\\Lyapunov\\Anaconda3\\envs\\jose\\lib\\site-packages\\tensorflow_core\\contrib\\layers\\python\\layers\\__init__.py\", line 22, in <module>\n",
      "    from tensorflow.contrib.layers.python.layers.embedding_ops import *\n",
      "  File \"C:\\Users\\Lyapunov\\Anaconda3\\envs\\jose\\lib\\site-packages\\tensorflow_core\\contrib\\layers\\python\\layers\\embedding_ops.py\", line 22, in <module>\n",
      "    from tensorflow.contrib.framework.python.framework import tensor_util as contrib_tensor_util\n",
      "  File \"C:\\Users\\Lyapunov\\Anaconda3\\envs\\jose\\lib\\site-packages\\tensorflow_core\\contrib\\framework\\__init__.py\", line 110, in <module>\n",
      "    from tensorflow.contrib.framework.python.ops import *\n",
      "  File \"C:\\Users\\Lyapunov\\Anaconda3\\envs\\jose\\lib\\site-packages\\tensorflow_core\\contrib\\framework\\python\\ops\\__init__.py\", line 29, in <module>\n",
      "    from tensorflow.contrib.framework.python.ops.variables import *\n",
      "  File \"C:\\Users\\Lyapunov\\Anaconda3\\envs\\jose\\lib\\site-packages\\tensorflow_core\\contrib\\framework\\python\\ops\\variables.py\", line 25, in <module>\n",
      "    from tensorflow.contrib.util import loader\n",
      "  File \"<frozen importlib._bootstrap>\", line 983, in _find_and_load\n",
      "  File \"<frozen importlib._bootstrap>\", line 967, in _find_and_load_unlocked\n",
      "  File \"<frozen importlib._bootstrap>\", line 677, in _load_unlocked\n",
      "  File \"<frozen importlib._bootstrap_external>\", line 724, in exec_module\n",
      "  File \"<frozen importlib._bootstrap_external>\", line 818, in get_code\n",
      "  File \"<frozen importlib._bootstrap_external>\", line 916, in get_data\n",
      "KeyboardInterrupt\n"
     ]
    },
    {
     "ename": "TypeError",
     "evalue": "object of type 'NoneType' has no len()",
     "output_type": "error",
     "traceback": [
      "\u001b[1;31m---------------------------------------------------------------------------\u001b[0m",
      "\u001b[1;31mKeyboardInterrupt\u001b[0m                         Traceback (most recent call last)",
      "    \u001b[1;31m[... skipping hidden 1 frame]\u001b[0m\n",
      "\u001b[1;32m<ipython-input-6-5a906ae4b638>\u001b[0m in \u001b[0;36m<module>\u001b[1;34m\u001b[0m\n\u001b[0;32m     21\u001b[0m                                       \u001b[0mdx\u001b[0m\u001b[1;33m=\u001b[0m\u001b[0mdim_x\u001b[0m\u001b[1;33m,\u001b[0m \u001b[0mdy\u001b[0m\u001b[1;33m=\u001b[0m\u001b[0mdim_y\u001b[0m\u001b[1;33m,\u001b[0m \u001b[0mdz\u001b[0m\u001b[1;33m=\u001b[0m\u001b[0mZdim\u001b[0m\u001b[1;33m,\u001b[0m\u001b[1;33m\u001b[0m\u001b[1;33m\u001b[0m\u001b[0m\n\u001b[1;32m---> 22\u001b[1;33m                                       fixed_function='linear', dist_z='gaussian')\n\u001b[0m\u001b[0;32m     23\u001b[0m     \u001b[1;31m# REALIZAR TEST\u001b[0m\u001b[1;33m\u001b[0m\u001b[1;33m\u001b[0m\u001b[1;33m\u001b[0m\u001b[0m\n",
      "\u001b[1;32m~\\Desktop\\JM\\GCIT-1\\utils.py\u001b[0m in \u001b[0;36mgenerate_samples_random\u001b[1;34m(size, sType, dx, dy, dz, nstd, fixed_function, debug, normalize, seed, dist_z)\u001b[0m\n\u001b[0;32m     42\u001b[0m     \u001b[1;32mif\u001b[0m \u001b[0mseed\u001b[0m \u001b[1;33m==\u001b[0m \u001b[1;32mNone\u001b[0m\u001b[1;33m:\u001b[0m\u001b[1;33m\u001b[0m\u001b[1;33m\u001b[0m\u001b[0m\n\u001b[1;32m---> 43\u001b[1;33m         \u001b[0mnp\u001b[0m\u001b[1;33m.\u001b[0m\u001b[0mrandom\u001b[0m\u001b[1;33m.\u001b[0m\u001b[0mseed\u001b[0m\u001b[1;33m(\u001b[0m\u001b[1;33m)\u001b[0m\u001b[1;33m\u001b[0m\u001b[1;33m\u001b[0m\u001b[0m\n\u001b[0m\u001b[0;32m     44\u001b[0m     \u001b[1;32melse\u001b[0m\u001b[1;33m:\u001b[0m\u001b[1;33m\u001b[0m\u001b[1;33m\u001b[0m\u001b[0m\n",
      "\u001b[1;31mKeyboardInterrupt\u001b[0m: ",
      "\nDuring handling of the above exception, another exception occurred:\n",
      "\u001b[1;31mKeyboardInterrupt\u001b[0m                         Traceback (most recent call last)",
      "    \u001b[1;31m[... skipping hidden 1 frame]\u001b[0m\n",
      "\u001b[1;31mKeyboardInterrupt\u001b[0m: ",
      "\nDuring handling of the above exception, another exception occurred:\n",
      "\u001b[1;31mAttributeError\u001b[0m                            Traceback (most recent call last)",
      "\u001b[1;32m~\\Anaconda3\\envs\\jose\\lib\\site-packages\\IPython\\core\\interactiveshell.py\u001b[0m in \u001b[0;36mshowtraceback\u001b[1;34m(self, exc_tuple, filename, tb_offset, exception_only, running_compiled_code)\u001b[0m\n\u001b[0;32m   2043\u001b[0m                         \u001b[1;31m# in the engines. This should return a list of strings.\u001b[0m\u001b[1;33m\u001b[0m\u001b[1;33m\u001b[0m\u001b[1;33m\u001b[0m\u001b[0m\n\u001b[1;32m-> 2044\u001b[1;33m                         \u001b[0mstb\u001b[0m \u001b[1;33m=\u001b[0m \u001b[0mvalue\u001b[0m\u001b[1;33m.\u001b[0m\u001b[0m_render_traceback_\u001b[0m\u001b[1;33m(\u001b[0m\u001b[1;33m)\u001b[0m\u001b[1;33m\u001b[0m\u001b[1;33m\u001b[0m\u001b[0m\n\u001b[0m\u001b[0;32m   2045\u001b[0m                     \u001b[1;32mexcept\u001b[0m \u001b[0mException\u001b[0m\u001b[1;33m:\u001b[0m\u001b[1;33m\u001b[0m\u001b[1;33m\u001b[0m\u001b[0m\n",
      "\u001b[1;31mAttributeError\u001b[0m: 'KeyboardInterrupt' object has no attribute '_render_traceback_'",
      "\nDuring handling of the above exception, another exception occurred:\n",
      "\u001b[1;31mTypeError\u001b[0m                                 Traceback (most recent call last)",
      "    \u001b[1;31m[... skipping hidden 1 frame]\u001b[0m\n",
      "\u001b[1;32m~\\Anaconda3\\envs\\jose\\lib\\site-packages\\IPython\\core\\interactiveshell.py\u001b[0m in \u001b[0;36mshowtraceback\u001b[1;34m(self, exc_tuple, filename, tb_offset, exception_only, running_compiled_code)\u001b[0m\n\u001b[0;32m   2045\u001b[0m                     \u001b[1;32mexcept\u001b[0m \u001b[0mException\u001b[0m\u001b[1;33m:\u001b[0m\u001b[1;33m\u001b[0m\u001b[1;33m\u001b[0m\u001b[0m\n\u001b[0;32m   2046\u001b[0m                         stb = self.InteractiveTB.structured_traceback(etype,\n\u001b[1;32m-> 2047\u001b[1;33m                                             value, tb, tb_offset=tb_offset)\n\u001b[0m\u001b[0;32m   2048\u001b[0m \u001b[1;33m\u001b[0m\u001b[0m\n\u001b[0;32m   2049\u001b[0m                     \u001b[0mself\u001b[0m\u001b[1;33m.\u001b[0m\u001b[0m_showtraceback\u001b[0m\u001b[1;33m(\u001b[0m\u001b[0metype\u001b[0m\u001b[1;33m,\u001b[0m \u001b[0mvalue\u001b[0m\u001b[1;33m,\u001b[0m \u001b[0mstb\u001b[0m\u001b[1;33m)\u001b[0m\u001b[1;33m\u001b[0m\u001b[1;33m\u001b[0m\u001b[0m\n",
      "\u001b[1;32m~\\Anaconda3\\envs\\jose\\lib\\site-packages\\IPython\\core\\ultratb.py\u001b[0m in \u001b[0;36mstructured_traceback\u001b[1;34m(self, etype, value, tb, tb_offset, number_of_lines_of_context)\u001b[0m\n\u001b[0;32m   1434\u001b[0m             \u001b[0mself\u001b[0m\u001b[1;33m.\u001b[0m\u001b[0mtb\u001b[0m \u001b[1;33m=\u001b[0m \u001b[0mtb\u001b[0m\u001b[1;33m\u001b[0m\u001b[1;33m\u001b[0m\u001b[0m\n\u001b[0;32m   1435\u001b[0m         return FormattedTB.structured_traceback(\n\u001b[1;32m-> 1436\u001b[1;33m             self, etype, value, tb, tb_offset, number_of_lines_of_context)\n\u001b[0m\u001b[0;32m   1437\u001b[0m \u001b[1;33m\u001b[0m\u001b[0m\n\u001b[0;32m   1438\u001b[0m \u001b[1;33m\u001b[0m\u001b[0m\n",
      "\u001b[1;32m~\\Anaconda3\\envs\\jose\\lib\\site-packages\\IPython\\core\\ultratb.py\u001b[0m in \u001b[0;36mstructured_traceback\u001b[1;34m(self, etype, value, tb, tb_offset, number_of_lines_of_context)\u001b[0m\n\u001b[0;32m   1334\u001b[0m             \u001b[1;31m# Verbose modes need a full traceback\u001b[0m\u001b[1;33m\u001b[0m\u001b[1;33m\u001b[0m\u001b[1;33m\u001b[0m\u001b[0m\n\u001b[0;32m   1335\u001b[0m             return VerboseTB.structured_traceback(\n\u001b[1;32m-> 1336\u001b[1;33m                 \u001b[0mself\u001b[0m\u001b[1;33m,\u001b[0m \u001b[0metype\u001b[0m\u001b[1;33m,\u001b[0m \u001b[0mvalue\u001b[0m\u001b[1;33m,\u001b[0m \u001b[0mtb\u001b[0m\u001b[1;33m,\u001b[0m \u001b[0mtb_offset\u001b[0m\u001b[1;33m,\u001b[0m \u001b[0mnumber_of_lines_of_context\u001b[0m\u001b[1;33m\u001b[0m\u001b[1;33m\u001b[0m\u001b[0m\n\u001b[0m\u001b[0;32m   1337\u001b[0m             )\n\u001b[0;32m   1338\u001b[0m         \u001b[1;32melif\u001b[0m \u001b[0mmode\u001b[0m \u001b[1;33m==\u001b[0m \u001b[1;34m'Minimal'\u001b[0m\u001b[1;33m:\u001b[0m\u001b[1;33m\u001b[0m\u001b[1;33m\u001b[0m\u001b[0m\n",
      "\u001b[1;32m~\\Anaconda3\\envs\\jose\\lib\\site-packages\\IPython\\core\\ultratb.py\u001b[0m in \u001b[0;36mstructured_traceback\u001b[1;34m(self, etype, evalue, etb, tb_offset, number_of_lines_of_context)\u001b[0m\n\u001b[0;32m   1209\u001b[0m         \u001b[1;32mwhile\u001b[0m \u001b[0mevalue\u001b[0m\u001b[1;33m:\u001b[0m\u001b[1;33m\u001b[0m\u001b[1;33m\u001b[0m\u001b[0m\n\u001b[0;32m   1210\u001b[0m             formatted_exceptions += self.format_exception_as_a_whole(etype, evalue, etb, lines_of_context,\n\u001b[1;32m-> 1211\u001b[1;33m                                                                      chained_exceptions_tb_offset)\n\u001b[0m\u001b[0;32m   1212\u001b[0m             \u001b[0mexception\u001b[0m \u001b[1;33m=\u001b[0m \u001b[0mself\u001b[0m\u001b[1;33m.\u001b[0m\u001b[0mget_parts_of_chained_exception\u001b[0m\u001b[1;33m(\u001b[0m\u001b[0mevalue\u001b[0m\u001b[1;33m)\u001b[0m\u001b[1;33m\u001b[0m\u001b[1;33m\u001b[0m\u001b[0m\n\u001b[0;32m   1213\u001b[0m \u001b[1;33m\u001b[0m\u001b[0m\n",
      "\u001b[1;32m~\\Anaconda3\\envs\\jose\\lib\\site-packages\\IPython\\core\\ultratb.py\u001b[0m in \u001b[0;36mformat_exception_as_a_whole\u001b[1;34m(self, etype, evalue, etb, number_of_lines_of_context, tb_offset)\u001b[0m\n\u001b[0;32m   1148\u001b[0m \u001b[1;33m\u001b[0m\u001b[0m\n\u001b[0;32m   1149\u001b[0m \u001b[1;33m\u001b[0m\u001b[0m\n\u001b[1;32m-> 1150\u001b[1;33m         \u001b[0mlast_unique\u001b[0m\u001b[1;33m,\u001b[0m \u001b[0mrecursion_repeat\u001b[0m \u001b[1;33m=\u001b[0m \u001b[0mfind_recursion\u001b[0m\u001b[1;33m(\u001b[0m\u001b[0morig_etype\u001b[0m\u001b[1;33m,\u001b[0m \u001b[0mevalue\u001b[0m\u001b[1;33m,\u001b[0m \u001b[0mrecords\u001b[0m\u001b[1;33m)\u001b[0m\u001b[1;33m\u001b[0m\u001b[1;33m\u001b[0m\u001b[0m\n\u001b[0m\u001b[0;32m   1151\u001b[0m \u001b[1;33m\u001b[0m\u001b[0m\n\u001b[0;32m   1152\u001b[0m         \u001b[0mframes\u001b[0m \u001b[1;33m=\u001b[0m \u001b[0mself\u001b[0m\u001b[1;33m.\u001b[0m\u001b[0mformat_records\u001b[0m\u001b[1;33m(\u001b[0m\u001b[0mrecords\u001b[0m\u001b[1;33m,\u001b[0m \u001b[0mlast_unique\u001b[0m\u001b[1;33m,\u001b[0m \u001b[0mrecursion_repeat\u001b[0m\u001b[1;33m)\u001b[0m\u001b[1;33m\u001b[0m\u001b[1;33m\u001b[0m\u001b[0m\n",
      "\u001b[1;32m~\\Anaconda3\\envs\\jose\\lib\\site-packages\\IPython\\core\\ultratb.py\u001b[0m in \u001b[0;36mfind_recursion\u001b[1;34m(etype, value, records)\u001b[0m\n\u001b[0;32m    449\u001b[0m     \u001b[1;31m# first frame (from in to out) that looks different.\u001b[0m\u001b[1;33m\u001b[0m\u001b[1;33m\u001b[0m\u001b[1;33m\u001b[0m\u001b[0m\n\u001b[0;32m    450\u001b[0m     \u001b[1;32mif\u001b[0m \u001b[1;32mnot\u001b[0m \u001b[0mis_recursion_error\u001b[0m\u001b[1;33m(\u001b[0m\u001b[0metype\u001b[0m\u001b[1;33m,\u001b[0m \u001b[0mvalue\u001b[0m\u001b[1;33m,\u001b[0m \u001b[0mrecords\u001b[0m\u001b[1;33m)\u001b[0m\u001b[1;33m:\u001b[0m\u001b[1;33m\u001b[0m\u001b[1;33m\u001b[0m\u001b[0m\n\u001b[1;32m--> 451\u001b[1;33m         \u001b[1;32mreturn\u001b[0m \u001b[0mlen\u001b[0m\u001b[1;33m(\u001b[0m\u001b[0mrecords\u001b[0m\u001b[1;33m)\u001b[0m\u001b[1;33m,\u001b[0m \u001b[1;36m0\u001b[0m\u001b[1;33m\u001b[0m\u001b[1;33m\u001b[0m\u001b[0m\n\u001b[0m\u001b[0;32m    452\u001b[0m \u001b[1;33m\u001b[0m\u001b[0m\n\u001b[0;32m    453\u001b[0m     \u001b[1;31m# Select filename, lineno, func_name to track frames with\u001b[0m\u001b[1;33m\u001b[0m\u001b[1;33m\u001b[0m\u001b[1;33m\u001b[0m\u001b[0m\n",
      "\u001b[1;31mTypeError\u001b[0m: object of type 'NoneType' has no len()"
     ]
    }
   ],
   "source": [
    "Zdim = 100 # 25, 50, 100, 250, 500\n",
    "dim_x = 1\n",
    "dim_y = 1 \n",
    "# fijar número de experimentos a realizar\n",
    "n_experiments = 300 #faltan 900\n",
    "# variable para guardar los pvalores de la función GCIT-1\n",
    "p_vals= []\n",
    "p_values = []\n",
    "# determinar de manera aleatoria cual es el tipo de conjunto a evaluar\n",
    "true = np.random.randint(0,2,n_experiments)\n",
    "print('Probando test para '+str(Zdim)+' dimensiones de Z')\n",
    "pbar = tqdm(total=n_experiments)\n",
    "for n in range(n_experiments):\n",
    "    ti = time.time()\n",
    "    # CREAR DATASET\n",
    "    if true[n]==0:\n",
    "        data_type = 'CI' # conjunto condicionalmente independiente\n",
    "    if true[n]==1:\n",
    "        data_type = 'NI' # conjunto dependiente \n",
    "    x, y, z = generate_samples_random(size=500, sType=data_type,\n",
    "                                      dx=dim_x, dy=dim_y, dz=Zdim,\n",
    "                                      fixed_function='linear', dist_z='gaussian')\n",
    "    # REALIZAR TEST\n",
    "    p_vals = GCIT_1(x, y, z, statistic='all')\n",
    "    del x, y, z\n",
    "    pbar.update(1)\n",
    "    # GUARDAR RESULTADOS\n",
    "    append_list_as_row('dim%s_linear_gaussian.csv'%(Zdim,), [true[n].tolist()] + p_vals)\n",
    "    gc.collect()\n",
    "p_values = np.array(p_values)\n",
    "pbar.close()"
   ]
  },
  {
   "cell_type": "code",
   "execution_count": null,
   "metadata": {},
   "outputs": [],
   "source": []
  },
  {
   "cell_type": "markdown",
   "metadata": {},
   "source": [
    "### Función Lineal Con distribución Laplace"
   ]
  },
  {
   "cell_type": "code",
   "execution_count": null,
   "metadata": {},
   "outputs": [],
   "source": [
    "Zdim = 25\n",
    "dim_x = 1\n",
    "dim_y = 1 \n",
    "# fijar número de experimentos a realizar\n",
    "n_experiments = 100\n",
    "# variable para guardar los pvalores de la función GCIT-1\n",
    "p_vals= []\n",
    "p_values = []\n",
    "# determinar de manera aleatoria cual es el tipo de conjunto a evaluar\n",
    "true = np.random.randint(0,2,n_experiments)\n",
    "print('Probando test para '+str(Zdim)+' dimensiones de Z')\n",
    "pbar = tqdm(total=n_experiments)\n",
    "for n in range(n_experiments):\n",
    "    # CREAR DATASET\n",
    "    if true[n]==0:\n",
    "        data_type = 'CI' # conjunto condicionalmente independiente\n",
    "    if true[n]==1:\n",
    "        data_type = 'NI' # conjunto dependiente \n",
    "    x, y, z = generate_samples_random(size=500, sType=data_type,\n",
    "                                      dx=dim_x, dy=dim_y, dz=Zdim,\n",
    "                                      fixed_function='linear', dist_z='laplace')\n",
    "    p_vals = GCIT_1(x, y, z, statistic='all')\n",
    "    del x, y, z\n",
    "    append_list_as_row('pvals_dim25_linear_laplace.csv', p_vals)\n",
    "    append_list_as_row('trues_dim25_linear_laplace.csv', [true[n].tolist()])\n",
    "    pbar.update(1)\n",
    "    p_values.append(np.array(p_vals))\n",
    "    gc.collect()\n",
    "pbar.close()\n",
    "p_values = np.array(p_values)\n",
    "#np.savetxt('pvals_dim25_linear_laplace.csv', p_values, delimiter=';', fmt='10.5f')\n",
    "#np.savetxt('trues_dim25_linear_laplace.csv', true, delimiter=',', fmt='%10.5f')"
   ]
  },
  {
   "cell_type": "markdown",
   "metadata": {},
   "source": [
    "### Función No Lineal Con distribución Laplace"
   ]
  },
  {
   "cell_type": "code",
   "execution_count": null,
   "metadata": {},
   "outputs": [],
   "source": [
    "Zdim = 25\n",
    "dim_x = 1\n",
    "dim_y = 1 \n",
    "# fijar número de experimentos a realizar\n",
    "n_experiments = 50\n",
    "# variable para guardar los pvalores de la función GCIT-1\n",
    "p_vals= []\n",
    "p_values = []\n",
    "# determinar de manera aleatoria cual es el tipo de conjunto a evaluar\n",
    "true = np.random.randint(0,2,n_experiments)\n",
    "print('Probando test para '+str(Zdim)+' dimensiones de Z')\n",
    "pbar = tqdm(total=n_experiments)\n",
    "for n in range(n_experiments):\n",
    "    # CREAR DATASET\n",
    "    if true[n]==0:\n",
    "        data_type = 'CI' # conjunto condicionalmente independiente\n",
    "    if true[n]==1:\n",
    "        data_type = 'NI' # conjunto dependiente \n",
    "    x, y, z = generate_samples_random(size=500, sType=data_type,\n",
    "                                      dx=dim_x, dy=dim_y, dz=Zdim,\n",
    "                                      fixed_function='nonlinear', dist_z='laplace')\n",
    "    p_vals = GCIT_1(x, y, z, statistic='all')\n",
    "    append_list_as_row('pvals_dim25_nonlinear_laplace.csv', p_vals)\n",
    "    append_list_as_row('trues_dim25_nonlinear_laplace.csv', [true[n].tolist()])\n",
    "    pbar.update(1)\n",
    "    p_values.append(np.array(p_vals))\n",
    "pbar.close()\n",
    "p_values = np.array(p_values)\n",
    "#np.savetxt('pvals_dim25_nonlinear_laplace.csv', p_values, delimiter=';', fmt='10.5f')\n",
    "#np.savetxt('trues_dim25_nonlinear_laplace.csv', true, delimiter=',', fmt='%10.5f')"
   ]
  },
  {
   "cell_type": "markdown",
   "metadata": {},
   "source": [
    "# FIN"
   ]
  },
  {
   "cell_type": "code",
   "execution_count": null,
   "metadata": {},
   "outputs": [],
   "source": [
    "Zdims = [25,50,100,250,500]\n",
    "dim_x = 1\n",
    "dim_y = 1\n",
    "alpha = 0.05\n",
    "trues = []\n",
    "predicts = []\n",
    "p_values = []\n",
    "n_experiments = 10\n",
    "for dim_z in Zdims:\n",
    "    times, p_vals = [], []\n",
    "    true = np.random.randint(0,2,n_experiments)\n",
    "    predict = []\n",
    "    print('Probando test para '+str(dim_z)+' dimensiones de Z')\n",
    "    pbar = tqdm(total=n_experiments)\n",
    "    for n in range(n_experiments):\n",
    "        # CREAR DATASET\n",
    "        if true[n]==0:\n",
    "            data_type = 'CI' # conjunto condicionalmente independiente\n",
    "        if true[n]==1:\n",
    "            data_type = 'NI' # conjunto dependiente \n",
    "        x, y, z = generate_samples_random(size=500, sType=data_type,\n",
    "                                          dx=dim_x, dy=dim_y, dz=dim_z,\n",
    "                                          fixed_function='nonlinear', dist_z='gaussian')\n",
    "        p_val,_,_,_ = GCIT(x, y, z, statistic='corr')\n",
    "        p_vals.append(p_val)\n",
    "        if p_val < alpha/2.0:\n",
    "            predict.append(1)\n",
    "        else:\n",
    "            predict.append(0)\n",
    "        pbar.update(1)\n",
    "    predicts.append(np.array(predict))\n",
    "    trues.append(np.array(true))\n",
    "    p_values.append(np.array(p_vals))\n"
   ]
  },
  {
   "cell_type": "code",
   "execution_count": null,
   "metadata": {},
   "outputs": [],
   "source": [
    "p_vals"
   ]
  },
  {
   "cell_type": "code",
   "execution_count": null,
   "metadata": {},
   "outputs": [],
   "source": []
  }
 ],
 "metadata": {
  "kernelspec": {
   "display_name": "Python 3",
   "language": "python",
   "name": "python3"
  },
  "language_info": {
   "codemirror_mode": {
    "name": "ipython",
    "version": 3
   },
   "file_extension": ".py",
   "mimetype": "text/x-python",
   "name": "python",
   "nbconvert_exporter": "python",
   "pygments_lexer": "ipython3",
   "version": "3.7.8"
  }
 },
 "nbformat": 4,
 "nbformat_minor": 2
}
