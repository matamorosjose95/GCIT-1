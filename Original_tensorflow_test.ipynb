{
 "cells": [
  {
   "cell_type": "markdown",
   "metadata": {},
   "source": [
    "Importar Librerías necesarias"
   ]
  },
  {
   "cell_type": "code",
   "execution_count": 1,
   "metadata": {},
   "outputs": [
    {
     "name": "stderr",
     "output_type": "stream",
     "text": [
      "Matplotlib is building the font cache; this may take a moment.\n"
     ]
    }
   ],
   "source": [
    "import numpy as np\n",
    "import tensorflow as tf\n",
    "import matplotlib.pyplot as plt\n",
    "from tqdm.notebook import tqdm\n",
    "import time\n",
    "import gc"
   ]
  },
  {
   "cell_type": "markdown",
   "metadata": {},
   "source": [
    "Funciones creadas por los autores originales"
   ]
  },
  {
   "cell_type": "code",
   "execution_count": 2,
   "metadata": {},
   "outputs": [
    {
     "data": {
      "text/plain": [
       "'1.15.0'"
      ]
     },
     "execution_count": 2,
     "metadata": {},
     "output_type": "execute_result"
    }
   ],
   "source": [
    "tf.__version__"
   ]
  },
  {
   "cell_type": "code",
   "execution_count": 2,
   "metadata": {
    "scrolled": false
   },
   "outputs": [],
   "source": [
    "from utils import *\n",
    "from GCIT import *\n",
    "from GCIT_1 import *\n",
    "import time\n",
    "from csv import writer"
   ]
  },
  {
   "cell_type": "code",
   "execution_count": 3,
   "metadata": {},
   "outputs": [],
   "source": [
    "def append_list_as_row(file_name, list_of_elem):\n",
    "    # Open file in append mode\n",
    "    with open(file_name, 'a+', newline='') as write_obj:\n",
    "        # Create a writer object from csv module\n",
    "        csv_writer = writer(write_obj)\n",
    "        # Add contents of list as last row in the csv file\n",
    "        csv_writer.writerow(list_of_elem)"
   ]
  },
  {
   "cell_type": "code",
   "execution_count": 4,
   "metadata": {
    "scrolled": false
   },
   "outputs": [
    {
     "name": "stdout",
     "output_type": "stream",
     "text": [
      "WARNING:tensorflow:From C:\\Users\\Lyapunov\\Anaconda3\\envs\\jose\\lib\\site-packages\\tensorflow_core\\python\\ops\\math_grad.py:1375: where (from tensorflow.python.ops.array_ops) is deprecated and will be removed in a future version.\n",
      "Instructions for updating:\n",
      "Use tf.where in 2.0, which has the same broadcast rule as np.where\n",
      "WARNING:tensorflow:From C:\\Users\\Lyapunov\\Desktop\\JM\\GCIT-1\\GCIT_1.py:223: The name tf.global_variables_initializer is deprecated. Please use tf.compat.v1.global_variables_initializer instead.\n",
      "\n",
      "Wall time: 27.7 s\n"
     ]
    },
    {
     "data": {
      "text/plain": [
       "[0.425, 0.0, 0.0, 0.0, 0.392]"
      ]
     },
     "execution_count": 4,
     "metadata": {},
     "output_type": "execute_result"
    }
   ],
   "source": [
    "%%time\n",
    "x, y, z = generate_samples_random(size=500, sType='CI',dx=1, dy=1, dz=500,\n",
    "                                  fixed_function='nonlinear', dist_z='gaussian')\n",
    "p_vals = GCIT_1(x, y, z, statistic='all')\n",
    "#print(\"Tiempo de ejecución: \" + str(time.time()-ti))\n",
    "p_vals"
   ]
  },
  {
   "cell_type": "markdown",
   "metadata": {},
   "source": [
    "### Función Lineal Con distribución Gaussiana"
   ]
  },
  {
   "cell_type": "code",
   "execution_count": 6,
   "metadata": {
    "scrolled": true
   },
   "outputs": [
    {
     "name": "stdout",
     "output_type": "stream",
     "text": [
      "Probando test para 100 dimensiones de Z\n"
     ]
    },
    {
     "data": {
      "application/vnd.jupyter.widget-view+json": {
       "model_id": "eb516631a80d445fa215b8722d451c0b",
       "version_major": 2,
       "version_minor": 0
      },
      "text/plain": [
       "HBox(children=(HTML(value=''), FloatProgress(value=0.0), HTML(value='')))"
      ]
     },
     "metadata": {},
     "output_type": "display_data"
    },
    {
     "name": "stdout",
     "output_type": "stream",
     "text": [
      "\n"
     ]
    },
    {
     "ename": "KeyboardInterrupt",
     "evalue": "",
     "output_type": "error",
     "traceback": [
      "\u001b[1;31m---------------------------------------------------------------------------\u001b[0m",
      "\u001b[1;31mKeyboardInterrupt\u001b[0m                         Traceback (most recent call last)",
      "\u001b[1;32m<ipython-input-6-65574f9c2244>\u001b[0m in \u001b[0;36m<module>\u001b[1;34m\u001b[0m\n\u001b[0;32m     22\u001b[0m                                       fixed_function='linear', dist_z='gaussian')\n\u001b[0;32m     23\u001b[0m     \u001b[1;31m# REALIZAR TEST\u001b[0m\u001b[1;33m\u001b[0m\u001b[1;33m\u001b[0m\u001b[1;33m\u001b[0m\u001b[0m\n\u001b[1;32m---> 24\u001b[1;33m     \u001b[0mp_vals\u001b[0m \u001b[1;33m=\u001b[0m \u001b[0mGCIT_1\u001b[0m\u001b[1;33m(\u001b[0m\u001b[0mx\u001b[0m\u001b[1;33m,\u001b[0m \u001b[0my\u001b[0m\u001b[1;33m,\u001b[0m \u001b[0mz\u001b[0m\u001b[1;33m,\u001b[0m \u001b[0mstatistic\u001b[0m\u001b[1;33m=\u001b[0m\u001b[1;34m'all'\u001b[0m\u001b[1;33m)\u001b[0m\u001b[1;33m\u001b[0m\u001b[1;33m\u001b[0m\u001b[0m\n\u001b[0m\u001b[0;32m     25\u001b[0m     \u001b[1;32mdel\u001b[0m \u001b[0mx\u001b[0m\u001b[1;33m,\u001b[0m \u001b[0my\u001b[0m\u001b[1;33m,\u001b[0m \u001b[0mz\u001b[0m\u001b[1;33m\u001b[0m\u001b[1;33m\u001b[0m\u001b[0m\n\u001b[0;32m     26\u001b[0m     \u001b[0mpbar\u001b[0m\u001b[1;33m.\u001b[0m\u001b[0mupdate\u001b[0m\u001b[1;33m(\u001b[0m\u001b[1;36m1\u001b[0m\u001b[1;33m)\u001b[0m\u001b[1;33m\u001b[0m\u001b[1;33m\u001b[0m\u001b[0m\n",
      "\u001b[1;32m~\\Desktop\\JM\\GCIT-1\\GCIT_1.py\u001b[0m in \u001b[0;36mGCIT_1\u001b[1;34m(x, y, z, statistic, lamda, normalize, verbose, n_iter, debug)\u001b[0m\n\u001b[0;32m    298\u001b[0m             \u001b[1;32mfor\u001b[0m \u001b[0msample\u001b[0m \u001b[1;32min\u001b[0m \u001b[0mrange\u001b[0m\u001b[1;33m(\u001b[0m\u001b[0mn_samples\u001b[0m\u001b[1;33m)\u001b[0m\u001b[1;33m:\u001b[0m\u001b[1;33m\u001b[0m\u001b[1;33m\u001b[0m\u001b[0m\n\u001b[0;32m    299\u001b[0m                 \u001b[0mx_hat\u001b[0m \u001b[1;33m=\u001b[0m \u001b[0msess\u001b[0m\u001b[1;33m.\u001b[0m\u001b[0mrun\u001b[0m\u001b[1;33m(\u001b[0m\u001b[1;33m[\u001b[0m\u001b[0mG_sample\u001b[0m\u001b[1;33m]\u001b[0m\u001b[1;33m,\u001b[0m \u001b[0mfeed_dict\u001b[0m\u001b[1;33m=\u001b[0m\u001b[1;33m{\u001b[0m\u001b[0mZ\u001b[0m\u001b[1;33m:\u001b[0m \u001b[0mz_test\u001b[0m\u001b[1;33m,\u001b[0m \u001b[0mV\u001b[0m\u001b[1;33m:\u001b[0m \u001b[0msample_V\u001b[0m\u001b[1;33m(\u001b[0m\u001b[0mlen\u001b[0m\u001b[1;33m(\u001b[0m\u001b[0mz_test\u001b[0m\u001b[1;33m[\u001b[0m\u001b[1;33m:\u001b[0m\u001b[1;33m,\u001b[0m \u001b[1;36m0\u001b[0m\u001b[1;33m]\u001b[0m\u001b[1;33m)\u001b[0m\u001b[1;33m,\u001b[0m \u001b[0mv_dim\u001b[0m\u001b[1;33m)\u001b[0m\u001b[1;33m}\u001b[0m\u001b[1;33m)\u001b[0m\u001b[1;33m[\u001b[0m\u001b[1;36m0\u001b[0m\u001b[1;33m]\u001b[0m\u001b[1;33m\u001b[0m\u001b[1;33m\u001b[0m\u001b[0m\n\u001b[1;32m--> 300\u001b[1;33m                 \u001b[0mrho\u001b[0m\u001b[1;33m.\u001b[0m\u001b[0mappend\u001b[0m\u001b[1;33m(\u001b[0m\u001b[0mstat\u001b[0m\u001b[1;33m(\u001b[0m\u001b[0mx_hat\u001b[0m\u001b[1;33m,\u001b[0m \u001b[0my_test\u001b[0m\u001b[1;33m)\u001b[0m\u001b[1;33m)\u001b[0m\u001b[1;33m\u001b[0m\u001b[1;33m\u001b[0m\u001b[0m\n\u001b[0m\u001b[0;32m    301\u001b[0m             \u001b[1;31m#print(rho)\u001b[0m\u001b[1;33m\u001b[0m\u001b[1;33m\u001b[0m\u001b[1;33m\u001b[0m\u001b[0m\n\u001b[0;32m    302\u001b[0m             \u001b[0mrho\u001b[0m \u001b[1;33m=\u001b[0m \u001b[0mnp\u001b[0m\u001b[1;33m.\u001b[0m\u001b[0marray\u001b[0m\u001b[1;33m(\u001b[0m\u001b[0mrho\u001b[0m\u001b[1;33m)\u001b[0m\u001b[1;33m\u001b[0m\u001b[1;33m\u001b[0m\u001b[0m\n",
      "\u001b[1;32m~\\Desktop\\JM\\GCIT-1\\utils.py\u001b[0m in \u001b[0;36mrdc\u001b[1;34m(x, y, f, k, s, n)\u001b[0m\n\u001b[0;32m    302\u001b[0m         \u001b[0mCyx\u001b[0m \u001b[1;33m=\u001b[0m \u001b[0mC\u001b[0m\u001b[1;33m[\u001b[0m\u001b[0mk0\u001b[0m\u001b[1;33m:\u001b[0m\u001b[0mk0\u001b[0m\u001b[1;33m+\u001b[0m\u001b[0mk\u001b[0m\u001b[1;33m,\u001b[0m \u001b[1;33m:\u001b[0m\u001b[0mk\u001b[0m\u001b[1;33m]\u001b[0m\u001b[1;33m\u001b[0m\u001b[1;33m\u001b[0m\u001b[0m\n\u001b[0;32m    303\u001b[0m \u001b[1;33m\u001b[0m\u001b[0m\n\u001b[1;32m--> 304\u001b[1;33m         eigs = np.linalg.eigvals(np.dot(np.dot(np.linalg.pinv(Cxx), Cxy),\n\u001b[0m\u001b[0;32m    305\u001b[0m                                         np.dot(np.linalg.pinv(Cyy), Cyx)))\n\u001b[0;32m    306\u001b[0m \u001b[1;33m\u001b[0m\u001b[0m\n",
      "\u001b[1;32m<__array_function__ internals>\u001b[0m in \u001b[0;36mpinv\u001b[1;34m(*args, **kwargs)\u001b[0m\n",
      "\u001b[1;32m~\\Anaconda3\\envs\\jose\\lib\\site-packages\\numpy\\linalg\\linalg.py\u001b[0m in \u001b[0;36mpinv\u001b[1;34m(a, rcond, hermitian)\u001b[0m\n\u001b[0;32m   2001\u001b[0m         \u001b[1;32mreturn\u001b[0m \u001b[0mwrap\u001b[0m\u001b[1;33m(\u001b[0m\u001b[0mres\u001b[0m\u001b[1;33m)\u001b[0m\u001b[1;33m\u001b[0m\u001b[1;33m\u001b[0m\u001b[0m\n\u001b[0;32m   2002\u001b[0m     \u001b[0ma\u001b[0m \u001b[1;33m=\u001b[0m \u001b[0ma\u001b[0m\u001b[1;33m.\u001b[0m\u001b[0mconjugate\u001b[0m\u001b[1;33m(\u001b[0m\u001b[1;33m)\u001b[0m\u001b[1;33m\u001b[0m\u001b[1;33m\u001b[0m\u001b[0m\n\u001b[1;32m-> 2003\u001b[1;33m     \u001b[0mu\u001b[0m\u001b[1;33m,\u001b[0m \u001b[0ms\u001b[0m\u001b[1;33m,\u001b[0m \u001b[0mvt\u001b[0m \u001b[1;33m=\u001b[0m \u001b[0msvd\u001b[0m\u001b[1;33m(\u001b[0m\u001b[0ma\u001b[0m\u001b[1;33m,\u001b[0m \u001b[0mfull_matrices\u001b[0m\u001b[1;33m=\u001b[0m\u001b[1;32mFalse\u001b[0m\u001b[1;33m,\u001b[0m \u001b[0mhermitian\u001b[0m\u001b[1;33m=\u001b[0m\u001b[0mhermitian\u001b[0m\u001b[1;33m)\u001b[0m\u001b[1;33m\u001b[0m\u001b[1;33m\u001b[0m\u001b[0m\n\u001b[0m\u001b[0;32m   2004\u001b[0m \u001b[1;33m\u001b[0m\u001b[0m\n\u001b[0;32m   2005\u001b[0m     \u001b[1;31m# discard small singular values\u001b[0m\u001b[1;33m\u001b[0m\u001b[1;33m\u001b[0m\u001b[1;33m\u001b[0m\u001b[0m\n",
      "\u001b[1;32m<__array_function__ internals>\u001b[0m in \u001b[0;36msvd\u001b[1;34m(*args, **kwargs)\u001b[0m\n",
      "\u001b[1;32m~\\Anaconda3\\envs\\jose\\lib\\site-packages\\numpy\\linalg\\linalg.py\u001b[0m in \u001b[0;36msvd\u001b[1;34m(a, full_matrices, compute_uv, hermitian)\u001b[0m\n\u001b[0;32m   1659\u001b[0m \u001b[1;33m\u001b[0m\u001b[0m\n\u001b[0;32m   1660\u001b[0m         \u001b[0msignature\u001b[0m \u001b[1;33m=\u001b[0m \u001b[1;34m'D->DdD'\u001b[0m \u001b[1;32mif\u001b[0m \u001b[0misComplexType\u001b[0m\u001b[1;33m(\u001b[0m\u001b[0mt\u001b[0m\u001b[1;33m)\u001b[0m \u001b[1;32melse\u001b[0m \u001b[1;34m'd->ddd'\u001b[0m\u001b[1;33m\u001b[0m\u001b[1;33m\u001b[0m\u001b[0m\n\u001b[1;32m-> 1661\u001b[1;33m         \u001b[0mu\u001b[0m\u001b[1;33m,\u001b[0m \u001b[0ms\u001b[0m\u001b[1;33m,\u001b[0m \u001b[0mvh\u001b[0m \u001b[1;33m=\u001b[0m \u001b[0mgufunc\u001b[0m\u001b[1;33m(\u001b[0m\u001b[0ma\u001b[0m\u001b[1;33m,\u001b[0m \u001b[0msignature\u001b[0m\u001b[1;33m=\u001b[0m\u001b[0msignature\u001b[0m\u001b[1;33m,\u001b[0m \u001b[0mextobj\u001b[0m\u001b[1;33m=\u001b[0m\u001b[0mextobj\u001b[0m\u001b[1;33m)\u001b[0m\u001b[1;33m\u001b[0m\u001b[1;33m\u001b[0m\u001b[0m\n\u001b[0m\u001b[0;32m   1662\u001b[0m         \u001b[0mu\u001b[0m \u001b[1;33m=\u001b[0m \u001b[0mu\u001b[0m\u001b[1;33m.\u001b[0m\u001b[0mastype\u001b[0m\u001b[1;33m(\u001b[0m\u001b[0mresult_t\u001b[0m\u001b[1;33m,\u001b[0m \u001b[0mcopy\u001b[0m\u001b[1;33m=\u001b[0m\u001b[1;32mFalse\u001b[0m\u001b[1;33m)\u001b[0m\u001b[1;33m\u001b[0m\u001b[1;33m\u001b[0m\u001b[0m\n\u001b[0;32m   1663\u001b[0m         \u001b[0ms\u001b[0m \u001b[1;33m=\u001b[0m \u001b[0ms\u001b[0m\u001b[1;33m.\u001b[0m\u001b[0mastype\u001b[0m\u001b[1;33m(\u001b[0m\u001b[0m_realType\u001b[0m\u001b[1;33m(\u001b[0m\u001b[0mresult_t\u001b[0m\u001b[1;33m)\u001b[0m\u001b[1;33m,\u001b[0m \u001b[0mcopy\u001b[0m\u001b[1;33m=\u001b[0m\u001b[1;32mFalse\u001b[0m\u001b[1;33m)\u001b[0m\u001b[1;33m\u001b[0m\u001b[1;33m\u001b[0m\u001b[0m\n",
      "\u001b[1;31mKeyboardInterrupt\u001b[0m: "
     ]
    }
   ],
   "source": [
    "Zdim = 100 # 25, 50, 100, 250, 500\n",
    "dim_x = 1\n",
    "dim_y = 1 \n",
    "# fijar número de experimentos a realizar\n",
    "n_experiments = 100 #faltan 900\n",
    "# variable para guardar los pvalores de la función GCIT-1\n",
    "p_vals= []\n",
    "p_values = []\n",
    "# determinar de manera aleatoria cual es el tipo de conjunto a evaluar\n",
    "true = np.random.randint(0,2,n_experiments)\n",
    "print('Probando test para '+str(Zdim)+' dimensiones de Z')\n",
    "pbar = tqdm(total=n_experiments)\n",
    "for n in range(n_experiments):\n",
    "    ti = time.time()\n",
    "    # CREAR DATASET\n",
    "    if true[n]==0:\n",
    "        data_type = 'CI' # conjunto condicionalmente independiente\n",
    "    if true[n]==1:\n",
    "        data_type = 'NI' # conjunto dependiente \n",
    "    x, y, z = generate_samples_random(size=500, sType=data_type,\n",
    "                                      dx=dim_x, dy=dim_y, dz=Zdim,\n",
    "                                      fixed_function='linear', dist_z='gaussian')\n",
    "    # REALIZAR TEST\n",
    "    p_vals = GCIT_1(x, y, z, statistic='all')\n",
    "    del x, y, z\n",
    "    pbar.update(1)\n",
    "    # GUARDAR RESULTADOS\n",
    "    append_list_as_row('dim%s_linear_gaussian.csv'%(Zdim,), [true[n].tolist()] + p_vals)\n",
    "    gc.collect()\n",
    "p_values = np.array(p_values)\n",
    "pbar.close()"
   ]
  },
  {
   "cell_type": "code",
   "execution_count": null,
   "metadata": {},
   "outputs": [],
   "source": []
  },
  {
   "cell_type": "markdown",
   "metadata": {},
   "source": [
    "### Función Lineal Con distribución Laplace"
   ]
  },
  {
   "cell_type": "code",
   "execution_count": null,
   "metadata": {},
   "outputs": [],
   "source": [
    "Zdim = 25\n",
    "dim_x = 1\n",
    "dim_y = 1 \n",
    "# fijar número de experimentos a realizar\n",
    "n_experiments = 100\n",
    "# variable para guardar los pvalores de la función GCIT-1\n",
    "p_vals= []\n",
    "p_values = []\n",
    "# determinar de manera aleatoria cual es el tipo de conjunto a evaluar\n",
    "true = np.random.randint(0,2,n_experiments)\n",
    "print('Probando test para '+str(Zdim)+' dimensiones de Z')\n",
    "pbar = tqdm(total=n_experiments)\n",
    "for n in range(n_experiments):\n",
    "    # CREAR DATASET\n",
    "    if true[n]==0:\n",
    "        data_type = 'CI' # conjunto condicionalmente independiente\n",
    "    if true[n]==1:\n",
    "        data_type = 'NI' # conjunto dependiente \n",
    "    x, y, z = generate_samples_random(size=500, sType=data_type,\n",
    "                                      dx=dim_x, dy=dim_y, dz=Zdim,\n",
    "                                      fixed_function='linear', dist_z='laplace')\n",
    "    p_vals = GCIT_1(x, y, z, statistic='all')\n",
    "    del x, y, z\n",
    "    append_list_as_row('pvals_dim25_linear_laplace.csv', p_vals)\n",
    "    append_list_as_row('trues_dim25_linear_laplace.csv', [true[n].tolist()])\n",
    "    pbar.update(1)\n",
    "    p_values.append(np.array(p_vals))\n",
    "    gc.collect()\n",
    "pbar.close()\n",
    "p_values = np.array(p_values)\n",
    "#np.savetxt('pvals_dim25_linear_laplace.csv', p_values, delimiter=';', fmt='10.5f')\n",
    "#np.savetxt('trues_dim25_linear_laplace.csv', true, delimiter=',', fmt='%10.5f')"
   ]
  },
  {
   "cell_type": "markdown",
   "metadata": {},
   "source": [
    "### Función No Lineal Con distribución Laplace"
   ]
  },
  {
   "cell_type": "code",
   "execution_count": null,
   "metadata": {},
   "outputs": [],
   "source": [
    "Zdim = 25\n",
    "dim_x = 1\n",
    "dim_y = 1 \n",
    "# fijar número de experimentos a realizar\n",
    "n_experiments = 50\n",
    "# variable para guardar los pvalores de la función GCIT-1\n",
    "p_vals= []\n",
    "p_values = []\n",
    "# determinar de manera aleatoria cual es el tipo de conjunto a evaluar\n",
    "true = np.random.randint(0,2,n_experiments)\n",
    "print('Probando test para '+str(Zdim)+' dimensiones de Z')\n",
    "pbar = tqdm(total=n_experiments)\n",
    "for n in range(n_experiments):\n",
    "    # CREAR DATASET\n",
    "    if true[n]==0:\n",
    "        data_type = 'CI' # conjunto condicionalmente independiente\n",
    "    if true[n]==1:\n",
    "        data_type = 'NI' # conjunto dependiente \n",
    "    x, y, z = generate_samples_random(size=500, sType=data_type,\n",
    "                                      dx=dim_x, dy=dim_y, dz=Zdim,\n",
    "                                      fixed_function='nonlinear', dist_z='laplace')\n",
    "    p_vals = GCIT_1(x, y, z, statistic='all')\n",
    "    append_list_as_row('pvals_dim25_nonlinear_laplace.csv', p_vals)\n",
    "    append_list_as_row('trues_dim25_nonlinear_laplace.csv', [true[n].tolist()])\n",
    "    pbar.update(1)\n",
    "    p_values.append(np.array(p_vals))\n",
    "pbar.close()\n",
    "p_values = np.array(p_values)\n",
    "#np.savetxt('pvals_dim25_nonlinear_laplace.csv', p_values, delimiter=';', fmt='10.5f')\n",
    "#np.savetxt('trues_dim25_nonlinear_laplace.csv', true, delimiter=',', fmt='%10.5f')"
   ]
  },
  {
   "cell_type": "markdown",
   "metadata": {},
   "source": [
    "# FIN"
   ]
  },
  {
   "cell_type": "code",
   "execution_count": null,
   "metadata": {},
   "outputs": [],
   "source": [
    "Zdims = [25,50,100,250,500]\n",
    "dim_x = 1\n",
    "dim_y = 1\n",
    "alpha = 0.05\n",
    "trues = []\n",
    "predicts = []\n",
    "p_values = []\n",
    "n_experiments = 10\n",
    "for dim_z in Zdims:\n",
    "    times, p_vals = [], []\n",
    "    true = np.random.randint(0,2,n_experiments)\n",
    "    predict = []\n",
    "    print('Probando test para '+str(dim_z)+' dimensiones de Z')\n",
    "    pbar = tqdm(total=n_experiments)\n",
    "    for n in range(n_experiments):\n",
    "        # CREAR DATASET\n",
    "        if true[n]==0:\n",
    "            data_type = 'CI' # conjunto condicionalmente independiente\n",
    "        if true[n]==1:\n",
    "            data_type = 'NI' # conjunto dependiente \n",
    "        x, y, z = generate_samples_random(size=500, sType=data_type,\n",
    "                                          dx=dim_x, dy=dim_y, dz=dim_z,\n",
    "                                          fixed_function='nonlinear', dist_z='gaussian')\n",
    "        p_val,_,_,_ = GCIT(x, y, z, statistic='corr')\n",
    "        p_vals.append(p_val)\n",
    "        if p_val < alpha/2.0:\n",
    "            predict.append(1)\n",
    "        else:\n",
    "            predict.append(0)\n",
    "        pbar.update(1)\n",
    "    predicts.append(np.array(predict))\n",
    "    trues.append(np.array(true))\n",
    "    p_values.append(np.array(p_vals))\n"
   ]
  },
  {
   "cell_type": "code",
   "execution_count": null,
   "metadata": {},
   "outputs": [],
   "source": [
    "p_vals"
   ]
  },
  {
   "cell_type": "code",
   "execution_count": null,
   "metadata": {},
   "outputs": [],
   "source": []
  }
 ],
 "metadata": {
  "kernelspec": {
   "display_name": "Python 3",
   "language": "python",
   "name": "python3"
  },
  "language_info": {
   "codemirror_mode": {
    "name": "ipython",
    "version": 3
   },
   "file_extension": ".py",
   "mimetype": "text/x-python",
   "name": "python",
   "nbconvert_exporter": "python",
   "pygments_lexer": "ipython3",
   "version": "3.7.8"
  }
 },
 "nbformat": 4,
 "nbformat_minor": 2
}
