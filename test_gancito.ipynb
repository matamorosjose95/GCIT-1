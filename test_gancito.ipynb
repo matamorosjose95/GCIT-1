{
 "cells": [
  {
   "cell_type": "code",
   "execution_count": 1,
   "metadata": {
    "id": "w64IMoQlJqY6"
   },
   "outputs": [],
   "source": [
    "import numpy as np\n",
    "import matplotlib.pyplot as plt\n",
    "from tqdm.notebook import tqdm\n",
    "import time\n",
    "import gc\n",
    "from csv import writer"
   ]
  },
  {
   "cell_type": "markdown",
   "metadata": {
    "colab": {
     "base_uri": "https://localhost:8080/",
     "height": 143
    },
    "id": "JditOiIFKSl5",
    "outputId": "8808d221-5a6d-4ee9-848a-678fcedb7c19"
   },
   "source": [
    "!git clone https://github.com/matamorosjose95/GCIT-1.git"
   ]
  },
  {
   "cell_type": "code",
   "execution_count": 2,
   "metadata": {},
   "outputs": [],
   "source": [
    "import torch\n",
    "import torch.nn as nn\n",
    "import torch.nn.functional as F\n",
    "from torch.utils.data import Dataset, DataLoader\n",
    "#from skimage import io\n",
    "\n",
    "import torch.optim as optim\n",
    "import torch.autograd as autograd"
   ]
  },
  {
   "cell_type": "code",
   "execution_count": 3,
   "metadata": {
    "id": "x5vY_yO0KA3-"
   },
   "outputs": [
    {
     "name": "stdout",
     "output_type": "stream",
     "text": [
      "1.7.0\n"
     ]
    }
   ],
   "source": [
    "import sys\n",
    "#sys.path.append('/content/GCIT-1')\n",
    "from GCIT import *\n",
    "from utils import *\n",
    "from modelos_gancito import *\n",
    "from entrenamiento_gan_cit_0 import *"
   ]
  },
  {
   "cell_type": "code",
   "execution_count": 4,
   "metadata": {
    "id": "uYCnOYoQJqZG"
   },
   "outputs": [],
   "source": [
    "def append_list_as_row(file_name, list_of_elem):\n",
    "    # Open file in append mode\n",
    "    with open(file_name, 'a+', newline='') as write_obj:\n",
    "        # Create a writer object from csv module\n",
    "        csv_writer = writer(write_obj)\n",
    "        # Add contents of list as last row in the csv file\n",
    "        csv_writer.writerow(list_of_elem)"
   ]
  },
  {
   "cell_type": "code",
   "execution_count": null,
   "metadata": {
    "colab": {
     "base_uri": "https://localhost:8080/",
     "height": 67,
     "referenced_widgets": [
      "444310907de144e6bb153a9cc27fd429",
      "83534ffa17914154bddfd120e08c2c87",
      "01f80976aaff4d20adf6ef80adad0fbe",
      "adf26adf1c5c49bca1e91083359d3f8b",
      "7e7660a235654c81ac53fb2046b1d89c",
      "5ab9d9ca63dd4cc8b7a47a9d8f511884",
      "8b7e1bb219f5491a9776f704b3594855",
      "6e6b1a323dd94dfba9957a7afab70aef"
     ]
    },
    "id": "2wvsyviWJqZK",
    "outputId": "d170fe4a-cbed-418a-fd4c-778a8db615ac"
   },
   "outputs": [
    {
     "name": "stdout",
     "output_type": "stream",
     "text": [
      "Probando test para 25 dimensiones de Z\n"
     ]
    },
    {
     "data": {
      "application/vnd.jupyter.widget-view+json": {
       "model_id": "59ae62624fae47d9906a6244a1f3b0ae",
       "version_major": 2,
       "version_minor": 0
      },
      "text/plain": [
       "HBox(children=(HTML(value=''), FloatProgress(value=0.0), HTML(value='')))"
      ]
     },
     "metadata": {},
     "output_type": "display_data"
    }
   ],
   "source": [
    "Zdim = 25 # 25, 50, 100, 250, 500\n",
    "dim_x = 1\n",
    "dim_y = 1 \n",
    "# fijar número de experimentos a realizar\n",
    "n_experiments = 100 #faltan 900\n",
    "# variable para guardar los pvalores de la función GCIT-1\n",
    "p_vals= []\n",
    "p_values = []\n",
    "# determinar de manera aleatoria cual es el tipo de conjunto a evaluar\n",
    "true = np.random.randint(0,2,n_experiments)\n",
    "print('Probando test para '+str(Zdim)+' dimensiones de Z')\n",
    "pbar = tqdm(total=n_experiments)\n",
    "for n in range(n_experiments):\n",
    "    ti = time.time()\n",
    "    # CREAR DATASET\n",
    "    if true[n]==0:\n",
    "        data_type = 'CI' # conjunto condicionalmente independiente\n",
    "    if true[n]==1:\n",
    "        data_type = 'NI' # conjunto dependiente \n",
    "    x, y, z = generate_samples_random(size=500, sType=data_type,\n",
    "                                      dx=dim_x, dy=dim_y, dz=Zdim,\n",
    "                                      fixed_function='linear', dist_z='gaussian')\n",
    "    # entrenar gancito y obtener modelo GAN entrenado\n",
    "    zMI_loss, xMI_loss, G_loss, D_loss, G_net = training(x,y,z,'GCIT_InfoGAN', 2e-4) \n",
    "    # REALIZAR TEST\n",
    "    n_samples = 1000\n",
    "    p_vals = [] # para guardar los valores de los 5 estadísticos\n",
    "    statistics = [correlation, mmd_squared, kolmogorov, wilcox, rdc]\n",
    "    dim_v = 62\n",
    "    for stat in statistics:\n",
    "        rho = []\n",
    "        for sample in range(n_samples):\n",
    "            v = torch.FloatTensor(500, dim_v)\n",
    "            x_hat = G_net.forward(torch.tensor(z).float(), v.uniform_(0,1))\n",
    "            x_hat = x_hat.cpu().detach().numpy()\n",
    "            rho.append(stat(x_hat, y))\n",
    "        #print(rho)\n",
    "        rho = np.array(rho)\n",
    "        p_value = min(sum(rho < stat(x.reshape(len(x)),y)) / n_samples, sum(rho > stat(x.reshape(len(x)), y)) / n_samples)\n",
    "        p_vals.append(p_value)\n",
    "    #p_vals = GCIT_1(x, y, z, statistic='all')\n",
    "    del x, y, z\n",
    "    pbar.update(1)\n",
    "    # GUARDAR RESULTADOS\n",
    "    append_list_as_row('dim%s_linear_gaussian_GANCIT0.csv'%(Zdim,), [true[n].tolist()] + p_vals)\n",
    "    gc.collect()\n",
    "p_values = np.array(p_values)\n",
    "pbar.close()"
   ]
  },
  {
   "cell_type": "code",
   "execution_count": null,
   "metadata": {},
   "outputs": [],
   "source": []
  }
 ],
 "metadata": {
  "colab": {
   "name": "test_gancito.ipynb",
   "provenance": []
  },
  "kernelspec": {
   "display_name": "Python 3",
   "language": "python",
   "name": "python3"
  },
  "language_info": {
   "codemirror_mode": {
    "name": "ipython",
    "version": 3
   },
   "file_extension": ".py",
   "mimetype": "text/x-python",
   "name": "python",
   "nbconvert_exporter": "python",
   "pygments_lexer": "ipython3",
   "version": "3.7.9"
  },
  "widgets": {
   "application/vnd.jupyter.widget-state+json": {
    "01f80976aaff4d20adf6ef80adad0fbe": {
     "model_module": "@jupyter-widgets/controls",
     "model_name": "FloatProgressModel",
     "state": {
      "_dom_classes": [],
      "_model_module": "@jupyter-widgets/controls",
      "_model_module_version": "1.5.0",
      "_model_name": "FloatProgressModel",
      "_view_count": null,
      "_view_module": "@jupyter-widgets/controls",
      "_view_module_version": "1.5.0",
      "_view_name": "ProgressView",
      "bar_style": "",
      "description": "  0%",
      "description_tooltip": null,
      "layout": "IPY_MODEL_5ab9d9ca63dd4cc8b7a47a9d8f511884",
      "max": 100,
      "min": 0,
      "orientation": "horizontal",
      "style": "IPY_MODEL_7e7660a235654c81ac53fb2046b1d89c",
      "value": 0
     }
    },
    "444310907de144e6bb153a9cc27fd429": {
     "model_module": "@jupyter-widgets/controls",
     "model_name": "HBoxModel",
     "state": {
      "_dom_classes": [],
      "_model_module": "@jupyter-widgets/controls",
      "_model_module_version": "1.5.0",
      "_model_name": "HBoxModel",
      "_view_count": null,
      "_view_module": "@jupyter-widgets/controls",
      "_view_module_version": "1.5.0",
      "_view_name": "HBoxView",
      "box_style": "",
      "children": [
       "IPY_MODEL_01f80976aaff4d20adf6ef80adad0fbe",
       "IPY_MODEL_adf26adf1c5c49bca1e91083359d3f8b"
      ],
      "layout": "IPY_MODEL_83534ffa17914154bddfd120e08c2c87"
     }
    },
    "5ab9d9ca63dd4cc8b7a47a9d8f511884": {
     "model_module": "@jupyter-widgets/base",
     "model_name": "LayoutModel",
     "state": {
      "_model_module": "@jupyter-widgets/base",
      "_model_module_version": "1.2.0",
      "_model_name": "LayoutModel",
      "_view_count": null,
      "_view_module": "@jupyter-widgets/base",
      "_view_module_version": "1.2.0",
      "_view_name": "LayoutView",
      "align_content": null,
      "align_items": null,
      "align_self": null,
      "border": null,
      "bottom": null,
      "display": null,
      "flex": null,
      "flex_flow": null,
      "grid_area": null,
      "grid_auto_columns": null,
      "grid_auto_flow": null,
      "grid_auto_rows": null,
      "grid_column": null,
      "grid_gap": null,
      "grid_row": null,
      "grid_template_areas": null,
      "grid_template_columns": null,
      "grid_template_rows": null,
      "height": null,
      "justify_content": null,
      "justify_items": null,
      "left": null,
      "margin": null,
      "max_height": null,
      "max_width": null,
      "min_height": null,
      "min_width": null,
      "object_fit": null,
      "object_position": null,
      "order": null,
      "overflow": null,
      "overflow_x": null,
      "overflow_y": null,
      "padding": null,
      "right": null,
      "top": null,
      "visibility": null,
      "width": null
     }
    },
    "6e6b1a323dd94dfba9957a7afab70aef": {
     "model_module": "@jupyter-widgets/base",
     "model_name": "LayoutModel",
     "state": {
      "_model_module": "@jupyter-widgets/base",
      "_model_module_version": "1.2.0",
      "_model_name": "LayoutModel",
      "_view_count": null,
      "_view_module": "@jupyter-widgets/base",
      "_view_module_version": "1.2.0",
      "_view_name": "LayoutView",
      "align_content": null,
      "align_items": null,
      "align_self": null,
      "border": null,
      "bottom": null,
      "display": null,
      "flex": null,
      "flex_flow": null,
      "grid_area": null,
      "grid_auto_columns": null,
      "grid_auto_flow": null,
      "grid_auto_rows": null,
      "grid_column": null,
      "grid_gap": null,
      "grid_row": null,
      "grid_template_areas": null,
      "grid_template_columns": null,
      "grid_template_rows": null,
      "height": null,
      "justify_content": null,
      "justify_items": null,
      "left": null,
      "margin": null,
      "max_height": null,
      "max_width": null,
      "min_height": null,
      "min_width": null,
      "object_fit": null,
      "object_position": null,
      "order": null,
      "overflow": null,
      "overflow_x": null,
      "overflow_y": null,
      "padding": null,
      "right": null,
      "top": null,
      "visibility": null,
      "width": null
     }
    },
    "7e7660a235654c81ac53fb2046b1d89c": {
     "model_module": "@jupyter-widgets/controls",
     "model_name": "ProgressStyleModel",
     "state": {
      "_model_module": "@jupyter-widgets/controls",
      "_model_module_version": "1.5.0",
      "_model_name": "ProgressStyleModel",
      "_view_count": null,
      "_view_module": "@jupyter-widgets/base",
      "_view_module_version": "1.2.0",
      "_view_name": "StyleView",
      "bar_color": null,
      "description_width": "initial"
     }
    },
    "83534ffa17914154bddfd120e08c2c87": {
     "model_module": "@jupyter-widgets/base",
     "model_name": "LayoutModel",
     "state": {
      "_model_module": "@jupyter-widgets/base",
      "_model_module_version": "1.2.0",
      "_model_name": "LayoutModel",
      "_view_count": null,
      "_view_module": "@jupyter-widgets/base",
      "_view_module_version": "1.2.0",
      "_view_name": "LayoutView",
      "align_content": null,
      "align_items": null,
      "align_self": null,
      "border": null,
      "bottom": null,
      "display": null,
      "flex": null,
      "flex_flow": null,
      "grid_area": null,
      "grid_auto_columns": null,
      "grid_auto_flow": null,
      "grid_auto_rows": null,
      "grid_column": null,
      "grid_gap": null,
      "grid_row": null,
      "grid_template_areas": null,
      "grid_template_columns": null,
      "grid_template_rows": null,
      "height": null,
      "justify_content": null,
      "justify_items": null,
      "left": null,
      "margin": null,
      "max_height": null,
      "max_width": null,
      "min_height": null,
      "min_width": null,
      "object_fit": null,
      "object_position": null,
      "order": null,
      "overflow": null,
      "overflow_x": null,
      "overflow_y": null,
      "padding": null,
      "right": null,
      "top": null,
      "visibility": null,
      "width": null
     }
    },
    "8b7e1bb219f5491a9776f704b3594855": {
     "model_module": "@jupyter-widgets/controls",
     "model_name": "DescriptionStyleModel",
     "state": {
      "_model_module": "@jupyter-widgets/controls",
      "_model_module_version": "1.5.0",
      "_model_name": "DescriptionStyleModel",
      "_view_count": null,
      "_view_module": "@jupyter-widgets/base",
      "_view_module_version": "1.2.0",
      "_view_name": "StyleView",
      "description_width": ""
     }
    },
    "adf26adf1c5c49bca1e91083359d3f8b": {
     "model_module": "@jupyter-widgets/controls",
     "model_name": "HTMLModel",
     "state": {
      "_dom_classes": [],
      "_model_module": "@jupyter-widgets/controls",
      "_model_module_version": "1.5.0",
      "_model_name": "HTMLModel",
      "_view_count": null,
      "_view_module": "@jupyter-widgets/controls",
      "_view_module_version": "1.5.0",
      "_view_name": "HTMLView",
      "description": "",
      "description_tooltip": null,
      "layout": "IPY_MODEL_6e6b1a323dd94dfba9957a7afab70aef",
      "placeholder": "​",
      "style": "IPY_MODEL_8b7e1bb219f5491a9776f704b3594855",
      "value": " 0/100 [00:00&lt;?, ?it/s]"
     }
    }
   }
  }
 },
 "nbformat": 4,
 "nbformat_minor": 1
}
