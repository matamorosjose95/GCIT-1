{
 "cells": [
  {
   "cell_type": "code",
   "execution_count": null,
   "metadata": {},
   "outputs": [],
   "source": [
    "import numpy as np\n",
    "import matplotlib.pyplot as plt\n",
    "from tqdm.notebook import tqdm\n",
    "import time\n",
    "import gc\n",
    "from utils import *\n",
    "from \n",
    "import time\n",
    "from csv import writer"
   ]
  },
  {
   "cell_type": "code",
   "execution_count": null,
   "metadata": {},
   "outputs": [],
   "source": [
    "def append_list_as_row(file_name, list_of_elem):\n",
    "    # Open file in append mode\n",
    "    with open(file_name, 'a+', newline='') as write_obj:\n",
    "        # Create a writer object from csv module\n",
    "        csv_writer = writer(write_obj)\n",
    "        # Add contents of list as last row in the csv file\n",
    "        csv_writer.writerow(list_of_elem)"
   ]
  },
  {
   "cell_type": "code",
   "execution_count": null,
   "metadata": {},
   "outputs": [],
   "source": [
    "Zdim = 25 # 25, 50, 100, 250, 500\n",
    "dim_x = 1\n",
    "dim_y = 1 \n",
    "# fijar número de experimentos a realizar\n",
    "n_experiments = 100 #faltan 900\n",
    "# variable para guardar los pvalores de la función GCIT-1\n",
    "p_vals= []\n",
    "p_values = []\n",
    "# determinar de manera aleatoria cual es el tipo de conjunto a evaluar\n",
    "true = np.random.randint(0,2,n_experiments)\n",
    "print('Probando test para '+str(Zdim)+' dimensiones de Z')\n",
    "pbar = tqdm(total=n_experiments)\n",
    "for n in range(n_experiments):\n",
    "    ti = time.time()\n",
    "    # CREAR DATASET\n",
    "    if true[n]==0:\n",
    "        data_type = 'CI' # conjunto condicionalmente independiente\n",
    "    if true[n]==1:\n",
    "        data_type = 'NI' # conjunto dependiente \n",
    "    x, y, z = generate_samples_random(size=500, sType=data_type,\n",
    "                                      dx=dim_x, dy=dim_y, dz=Zdim,\n",
    "                                      fixed_function='linear', dist_z='gaussian')\n",
    "    # REALIZAR TEST\n",
    "    n_samples = 1000\n",
    "    p_vals = [] # para guardar los valores de los 5 estadísticos\n",
    "    statistics = [correlation, mmd_squared, kolmogorov, wilcox, rdc]\n",
    "    for stat in statistics:\n",
    "        rho = []\n",
    "        for sample in range(n_samples):\n",
    "            x_hat = \n",
    "            rho.append(stat(x_hat, y_test))\n",
    "        #print(rho)\n",
    "        rho = np.array(rho)\n",
    "        p_value = min(sum(rho < stat(x_test.reshape(len(x_test)),y_test)) / n_samples, sum(rho > stat(x_test.reshape(len(x_test)), y_test)) / n_samples)\n",
    "        p_vals.append(p_value)\n",
    "    p_vals = GCIT_1(x, y, z, statistic='all')\n",
    "    del x, y, z\n",
    "    pbar.update(1)\n",
    "    # GUARDAR RESULTADOS\n",
    "    append_list_as_row('dim%s_linear_gaussian_GANCIT0.csv'%(Zdim,), [true[n].tolist()] + p_vals)\n",
    "    gc.collect()\n",
    "p_values = np.array(p_values)\n",
    "pbar.close()"
   ]
  }
 ],
 "metadata": {
  "kernelspec": {
   "display_name": "Python 3",
   "language": "python",
   "name": "python3"
  },
  "language_info": {
   "codemirror_mode": {
    "name": "ipython",
    "version": 3
   },
   "file_extension": ".py",
   "mimetype": "text/x-python",
   "name": "python",
   "nbconvert_exporter": "python",
   "pygments_lexer": "ipython3",
   "version": "3.7.9"
  }
 },
 "nbformat": 4,
 "nbformat_minor": 4
}
